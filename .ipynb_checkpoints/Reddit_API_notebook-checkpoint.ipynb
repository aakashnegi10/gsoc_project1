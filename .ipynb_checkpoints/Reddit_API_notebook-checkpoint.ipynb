{
 "cells": [
  {
   "cell_type": "markdown",
   "id": "91019a15-64a1-402b-944e-a76083360616",
   "metadata": {},
   "source": [
    "# Test: GSoC Candidate Assessment\n",
    "#### Name - Aakash Negi"
   ]
  },
  {
   "cell_type": "markdown",
   "id": "d1219d12-810a-44cc-a66b-2b2db94c6063",
   "metadata": {},
   "source": [
    "## Objective:\n",
    "This test is designed to evaluate candidates' ability to:\n",
    "- Extract, process, and analyze crisis-related discussions from social media\n",
    "- Apply sentiment analysis and NLP techniques to assess high-risk content\n",
    "- Geocode and visualize crisis-related trends on a basic interactive map\n",
    "\n",
    "\n"
   ]
  },
  {
   "cell_type": "markdown",
   "id": "8a99673c-e05d-4630-9497-aa68f8f605c0",
   "metadata": {},
   "source": [
    "### Task 1: Social Media Data Extraction & Preprocessing (API Handling & Text Cleaning)\n"
   ]
  },
  {
   "cell_type": "code",
   "execution_count": 1,
   "id": "d217c9e1-00d5-4306-882c-e6368176118d",
   "metadata": {},
   "outputs": [
    {
     "name": "stderr",
     "output_type": "stream",
     "text": [
      "[nltk_data] Downloading package stopwords to /home/aakash/nltk_data...\n",
      "[nltk_data]   Package stopwords is already up-to-date!\n"
     ]
    }
   ],
   "source": [
    "### Reddit Data Extraction\n",
    "### Import packages\n",
    "\n",
    "import praw\n",
    "import pandas as pd\n",
    "import numpy as np\n",
    "import re\n",
    "import nltk\n",
    "from nltk.corpus import stopwords\n",
    "import emoji\n",
    "import os\n",
    "\n",
    "import nltk\n",
    "from nltk.stem import WordNetLemmatizer\n",
    "from nltk.tokenize import word_tokenize\n",
    "\n",
    "from datetime import datetime\n",
    "\n",
    "# Ensure stopwords are downloaded\n",
    "nltk.download('stopwords')\n",
    "stop_words = set(stopwords.words('english'))"
   ]
  },
  {
   "cell_type": "code",
   "execution_count": 2,
   "id": "81616de2-cdc4-4ba6-99c5-251ee48eb7a4",
   "metadata": {},
   "outputs": [],
   "source": [
    "### Initialize Reddit API connection\n",
    "\n",
    "user_agent= \"user_agent\"  # leaving space gives error\n",
    "\n",
    "reddit = praw.Reddit(\n",
    "    client_id=\"-ggPSBpmj6tuwdfm-Av6vQ\",\n",
    "    client_secret=\"hP__xX396bg68yxyS9GzsCogUywMUQ\",\n",
    "    user_agent=user_agent\n",
    ")"
   ]
  },
  {
   "cell_type": "code",
   "execution_count": 3,
   "id": "185a8e2a-5e79-4702-9545-ef82887c3318",
   "metadata": {},
   "outputs": [],
   "source": [
    "### Creating a list with some widely recognized terms in mental health discussions\n",
    "\n",
    "keywords = [\n",
    "    \"depression\",\n",
    "    \"anxiety disorder\",\n",
    "    \"bipolar disorder\",\n",
    "    \"post-traumatic stress disorder\",\n",
    "    \"obsessive-compulsive disorder\",\n",
    "    \"schizophrenia\",\n",
    "    \"eating disorder\",\n",
    "    \"substance use disorder\",\n",
    "    \"self-harm\",\n",
    "    \"suicidal ideation\"]"
   ]
  },
  {
   "cell_type": "code",
   "execution_count": 4,
   "id": "52d35b47-8190-4ac3-b86a-558c425ab7a9",
   "metadata": {},
   "outputs": [],
   "source": [
    "### List of subreddits \n",
    "\n",
    "subreddit_name = [\n",
    "    \"mentalhealth\", \"depression\", \"addiction\", \"SuicideWatch\",\n",
    "    \"traumatoolbox\", \"socialanxiety\", \"Anger\", \"offmychest\", \n",
    "    \"bodyacceptance\", \"mentalhealthmemes\", \n",
    "    \"nosurf\", \"mentalhealth\"]"
   ]
  },
  {
   "cell_type": "code",
   "execution_count": 5,
   "id": "4f47a3d7-4fad-44f8-bf4b-d682c372cc86",
   "metadata": {},
   "outputs": [],
   "source": [
    "# Check if we can utilize the subreddit\n",
    "\n",
    "import requests\n",
    "\n",
    "def is_subreddit_accessible(subreddit_name):\n",
    "    url = f\"https://www.reddit.com/r/{subreddit_name}/about.json\"\n",
    "    headers = {\"User-Agent\": \"your_user_agent\"}\n",
    "    response = requests.get(url, headers=headers)\n",
    "\n",
    "    if response.status_code == 200:\n",
    "        return True  # accessible\n",
    "    else:\n",
    "        print(f\"Subreddit r/{subreddit_name} is private, banned, or doesn't exist. \\n\")\n",
    "        return False  #  not accessible"
   ]
  },
  {
   "cell_type": "code",
   "execution_count": 6,
   "id": "1c601bad-3a54-4055-be42-8e1ac9bb5c51",
   "metadata": {},
   "outputs": [
    {
     "name": "stdout",
     "output_type": "stream",
     "text": [
      "Subreddit r/mentalhealthmemes is private, banned, or doesn't exist. \n",
      "\n",
      "final subreddits in the dataset: ['mentalhealth', 'depression', 'addiction', 'SuicideWatch', 'traumatoolbox', 'socialanxiety', 'Anger', 'offmychest', 'bodyacceptance', 'nosurf', 'mentalhealth']\n"
     ]
    }
   ],
   "source": [
    "### Remove unwanted\n",
    "\n",
    "valid_subreddits = [sub for sub in subreddit_name if is_subreddit_accessible(sub)]\n",
    "print(f\"final subreddits in the dataset: {valid_subreddits}\")"
   ]
  },
  {
   "cell_type": "code",
   "execution_count": 7,
   "id": "fe4ee29a-8821-472b-a769-1166d619ecac",
   "metadata": {},
   "outputs": [],
   "source": [
    "#Initialize lemmatizer\n",
    "\n",
    "lemmatizer = WordNetLemmatizer()\n",
    "\n",
    "# Function to clean text\n",
    "def clean_text(text):\n",
    "    if pd.isna(text):  # Handle NaN values\n",
    "        return \"NaN\"\n",
    "    \n",
    "    text = text.lower()  # Convert to lowercase\n",
    "    text = re.sub(r'[^a-z\\s]', '', text)  # Remove special characters\n",
    "    tokens = word_tokenize(text)  # Tokenize text\n",
    "    tokens = [word for word in tokens if word not in stop_words]  # Remove stopwords\n",
    "    tokens = [lemmatizer.lemmatize(word) for word in tokens]  # Apply lemmatization\n",
    "    \n",
    "    return ' '.join(tokens)"
   ]
  },
  {
   "cell_type": "code",
   "execution_count": 8,
   "id": "6d150d02-c28f-40eb-a753-0d13e3423739",
   "metadata": {},
   "outputs": [],
   "source": [
    "### post format\n",
    "\n",
    "def get_reddit_posts(valid_subreddits, limit=1000):\n",
    "    all_posts = []\n",
    "    \n",
    "    for subreddit_name in valid_subreddits:\n",
    "        print(f\"🔹 Fetching posts from r/{subreddit_name}...\")\n",
    "        subreddit = reddit.subreddit(subreddit_name)\n",
    "        \n",
    "        for post in subreddit.hot(limit=limit):  # Fetch top 'hot' posts\n",
    "            if any(keyword in post.title.lower() or keyword in post.selftext.lower() for keyword in keywords):\n",
    "                all_posts.append({\n",
    "                    \"subreddit\": subreddit_name,  # Store the subreddit name\n",
    "                    \"post_id\": post.id,\n",
    "                    \"timestamp\": datetime.utcfromtimestamp(post.created_utc).strftime('%Y-%m-%d %H:%M:%S'),\n",
    "                    \"content\": clean_text(post.title + ' ' + post.selftext),\n",
    "                    \"upvotes\": post.score,\n",
    "                    \"comments\": post.num_comments,\n",
    "                    \"shares\": post.num_crossposts\n",
    "                })\n",
    "    \n",
    "    return all_posts"
   ]
  },
  {
   "cell_type": "code",
   "execution_count": 9,
   "id": "896056dd-8f99-4205-9e08-11f7cdb76827",
   "metadata": {},
   "outputs": [
    {
     "name": "stdout",
     "output_type": "stream",
     "text": [
      "🔹 Fetching posts from r/mentalhealth...\n"
     ]
    },
    {
     "name": "stderr",
     "output_type": "stream",
     "text": [
      "/tmp/ipykernel_60599/1733205557.py:15: DeprecationWarning: datetime.datetime.utcfromtimestamp() is deprecated and scheduled for removal in a future version. Use timezone-aware objects to represent datetimes in UTC: datetime.datetime.fromtimestamp(timestamp, datetime.UTC).\n",
      "  \"timestamp\": datetime.utcfromtimestamp(post.created_utc).strftime('%Y-%m-%d %H:%M:%S'),\n"
     ]
    },
    {
     "name": "stdout",
     "output_type": "stream",
     "text": [
      "🔹 Fetching posts from r/depression...\n",
      "🔹 Fetching posts from r/addiction...\n",
      "🔹 Fetching posts from r/SuicideWatch...\n",
      "🔹 Fetching posts from r/traumatoolbox...\n",
      "🔹 Fetching posts from r/socialanxiety...\n",
      "🔹 Fetching posts from r/Anger...\n",
      "🔹 Fetching posts from r/offmychest...\n",
      "🔹 Fetching posts from r/bodyacceptance...\n",
      "🔹 Fetching posts from r/nosurf...\n",
      "🔹 Fetching posts from r/mentalhealth...\n",
      " Collected 1011 posts.\n"
     ]
    }
   ],
   "source": [
    "# Fetch posts\n",
    "\n",
    "posts_data = get_reddit_posts(valid_subreddits, limit=1000)\n",
    "print(f\" Collected {len(posts_data)} posts.\")"
   ]
  },
  {
   "cell_type": "code",
   "execution_count": 10,
   "id": "d8110a71-ddb4-475f-9f3b-2bce4bd40fc7",
   "metadata": {},
   "outputs": [
    {
     "name": "stdout",
     "output_type": "stream",
     "text": [
      "Dataset for this test: reddit_posts_final.csv\n"
     ]
    }
   ],
   "source": [
    "## Convert the collected data to a DataFrame\n",
    "\n",
    "df = pd.DataFrame(posts_data)\n",
    "\n",
    "## Save the dataset to a CSV file\n",
    "\n",
    "filename = \"reddit_posts_final.csv\"\n",
    "df.to_csv(filename, index=False, encoding=\"utf-8\")\n",
    "\n",
    "print(f\"Dataset for this test: {filename}\")"
   ]
  },
  {
   "cell_type": "code",
   "execution_count": 11,
   "id": "cdfcbccf-9afd-4a07-a8b7-baa5468e338f",
   "metadata": {},
   "outputs": [
    {
     "data": {
      "text/html": [
       "<div>\n",
       "<style scoped>\n",
       "    .dataframe tbody tr th:only-of-type {\n",
       "        vertical-align: middle;\n",
       "    }\n",
       "\n",
       "    .dataframe tbody tr th {\n",
       "        vertical-align: top;\n",
       "    }\n",
       "\n",
       "    .dataframe thead th {\n",
       "        text-align: right;\n",
       "    }\n",
       "</style>\n",
       "<table border=\"1\" class=\"dataframe\">\n",
       "  <thead>\n",
       "    <tr style=\"text-align: right;\">\n",
       "      <th></th>\n",
       "      <th>subreddit</th>\n",
       "      <th>post_id</th>\n",
       "      <th>timestamp</th>\n",
       "      <th>content</th>\n",
       "      <th>upvotes</th>\n",
       "      <th>comments</th>\n",
       "      <th>shares</th>\n",
       "    </tr>\n",
       "  </thead>\n",
       "  <tbody>\n",
       "    <tr>\n",
       "      <th>0</th>\n",
       "      <td>mentalhealth</td>\n",
       "      <td>1jmt04q</td>\n",
       "      <td>2025-03-29 18:37:15</td>\n",
       "      <td>alone always sit alone daily intrusive thought...</td>\n",
       "      <td>14</td>\n",
       "      <td>6</td>\n",
       "      <td>0</td>\n",
       "    </tr>\n",
       "    <tr>\n",
       "      <th>1</th>\n",
       "      <td>mentalhealth</td>\n",
       "      <td>1jmqcxh</td>\n",
       "      <td>2025-03-29 16:40:31</td>\n",
       "      <td>cope feeling like youre behind life lost lot y...</td>\n",
       "      <td>14</td>\n",
       "      <td>5</td>\n",
       "      <td>0</td>\n",
       "    </tr>\n",
       "    <tr>\n",
       "      <th>2</th>\n",
       "      <td>mentalhealth</td>\n",
       "      <td>1jmfpse</td>\n",
       "      <td>2025-03-29 05:50:57</td>\n",
       "      <td>girlfriend undergoing ect im ive known girlfri...</td>\n",
       "      <td>54</td>\n",
       "      <td>48</td>\n",
       "      <td>0</td>\n",
       "    </tr>\n",
       "    <tr>\n",
       "      <th>3</th>\n",
       "      <td>mentalhealth</td>\n",
       "      <td>1jmussn</td>\n",
       "      <td>2025-03-29 19:59:43</td>\n",
       "      <td>depression airforce hey title state im depress...</td>\n",
       "      <td>3</td>\n",
       "      <td>1</td>\n",
       "      <td>0</td>\n",
       "    </tr>\n",
       "    <tr>\n",
       "      <th>4</th>\n",
       "      <td>mentalhealth</td>\n",
       "      <td>1jmxgp2</td>\n",
       "      <td>2025-03-29 22:02:51</td>\n",
       "      <td>family believe anyone assumes mental physical ...</td>\n",
       "      <td>2</td>\n",
       "      <td>0</td>\n",
       "      <td>0</td>\n",
       "    </tr>\n",
       "  </tbody>\n",
       "</table>\n",
       "</div>"
      ],
      "text/plain": [
       "      subreddit  post_id            timestamp  \\\n",
       "0  mentalhealth  1jmt04q  2025-03-29 18:37:15   \n",
       "1  mentalhealth  1jmqcxh  2025-03-29 16:40:31   \n",
       "2  mentalhealth  1jmfpse  2025-03-29 05:50:57   \n",
       "3  mentalhealth  1jmussn  2025-03-29 19:59:43   \n",
       "4  mentalhealth  1jmxgp2  2025-03-29 22:02:51   \n",
       "\n",
       "                                             content  upvotes  comments  \\\n",
       "0  alone always sit alone daily intrusive thought...       14         6   \n",
       "1  cope feeling like youre behind life lost lot y...       14         5   \n",
       "2  girlfriend undergoing ect im ive known girlfri...       54        48   \n",
       "3  depression airforce hey title state im depress...        3         1   \n",
       "4  family believe anyone assumes mental physical ...        2         0   \n",
       "\n",
       "   shares  \n",
       "0       0  \n",
       "1       0  \n",
       "2       0  \n",
       "3       0  \n",
       "4       0  "
      ]
     },
     "execution_count": 11,
     "metadata": {},
     "output_type": "execute_result"
    }
   ],
   "source": [
    "### Let us look at the datset \n",
    "\n",
    "df.head()"
   ]
  },
  {
   "cell_type": "code",
   "execution_count": 12,
   "id": "b562ff14-26d0-4160-8039-7474e93881eb",
   "metadata": {},
   "outputs": [
    {
     "data": {
      "text/plain": [
       "(1011, 7)"
      ]
     },
     "execution_count": 12,
     "metadata": {},
     "output_type": "execute_result"
    }
   ],
   "source": [
    "df.shape"
   ]
  },
  {
   "cell_type": "code",
   "execution_count": 13,
   "id": "c5b63d14-ad15-4940-ac25-b7fdabf5815d",
   "metadata": {},
   "outputs": [
    {
     "name": "stdout",
     "output_type": "stream",
     "text": [
      "<class 'pandas.core.frame.DataFrame'>\n",
      "RangeIndex: 1011 entries, 0 to 1010\n",
      "Data columns (total 7 columns):\n",
      " #   Column     Non-Null Count  Dtype \n",
      "---  ------     --------------  ----- \n",
      " 0   subreddit  1011 non-null   object\n",
      " 1   post_id    1011 non-null   object\n",
      " 2   timestamp  1011 non-null   object\n",
      " 3   content    1011 non-null   object\n",
      " 4   upvotes    1011 non-null   int64 \n",
      " 5   comments   1011 non-null   int64 \n",
      " 6   shares     1011 non-null   int64 \n",
      "dtypes: int64(3), object(4)\n",
      "memory usage: 55.4+ KB\n",
      "None\n"
     ]
    }
   ],
   "source": [
    "print(df.info())  "
   ]
  },
  {
   "cell_type": "code",
   "execution_count": 14,
   "id": "4c909472-81a0-4244-9966-bfd4d4f6dc9a",
   "metadata": {},
   "outputs": [
    {
     "name": "stdout",
     "output_type": "stream",
     "text": [
      "subreddit    0\n",
      "post_id      0\n",
      "timestamp    0\n",
      "content      0\n",
      "upvotes      0\n",
      "comments     0\n",
      "shares       0\n",
      "dtype: int64\n"
     ]
    }
   ],
   "source": [
    "print(df.isnull().sum())  # Check missing values"
   ]
  },
  {
   "cell_type": "code",
   "execution_count": 15,
   "id": "26934350-594d-4ae2-bb30-eb93321b7d6d",
   "metadata": {},
   "outputs": [
    {
     "data": {
      "text/plain": [
       "Index(['subreddit', 'post_id', 'timestamp', 'content', 'upvotes', 'comments',\n",
       "       'shares'],\n",
       "      dtype='object')"
      ]
     },
     "execution_count": 15,
     "metadata": {},
     "output_type": "execute_result"
    }
   ],
   "source": [
    "df.columns"
   ]
  },
  {
   "cell_type": "code",
   "execution_count": 16,
   "id": "c1dcd32f-909c-41f9-91b4-bc2e8a040905",
   "metadata": {},
   "outputs": [
    {
     "name": "stdout",
     "output_type": "stream",
     "text": [
      "Post with highest upvotes:\n",
      "\n",
      "Subreddit: depression\n",
      "Upvotes: 2366\n",
      "Comments: 177\n",
      "Content Length: 3183\n"
     ]
    }
   ],
   "source": [
    "### Let us look at the highest upvoted post\n",
    "\n",
    "# Sort the DataFrame by 'upvotes' column in descending order\n",
    "\n",
    "highest_upvotes_post = df.sort_values(by='upvotes', ascending=False).iloc[0]\n",
    "\n",
    "# Print the content of the post with the highest upvotes\n",
    "\n",
    "print(f\"Post with highest upvotes:\\n\")\n",
    "print(f\"Subreddit: {highest_upvotes_post['subreddit']}\")\n",
    "print(f\"Upvotes: {highest_upvotes_post['upvotes']}\")\n",
    "print(f\"Comments: {highest_upvotes_post['comments']}\")\n",
    "\n",
    "content_length_highest = len(highest_upvotes_post['content'])\n",
    "print(f\"Content Length: {content_length_highest}\")"
   ]
  },
  {
   "cell_type": "code",
   "execution_count": 17,
   "id": "7a21055f-8cb9-46d0-98bb-281967f93540",
   "metadata": {},
   "outputs": [
    {
     "data": {
      "text/plain": [
       "0       alone always sit alone daily intrusive thought...\n",
       "1       cope feeling like youre behind life lost lot y...\n",
       "2       girlfriend undergoing ect im ive known girlfri...\n",
       "3       depression airforce hey title state im depress...\n",
       "4       family believe anyone assumes mental physical ...\n",
       "                              ...                        \n",
       "1006    anyone take anything depression isnt ssri year...\n",
       "1007    mother suicidal unwell refuse get help live pa...\n",
       "1008    sometimes wake feel like never want emotional ...\n",
       "1009    post hospitalization depression sum thing unde...\n",
       "1010    thinking quitting toxic job need encouragement...\n",
       "Name: content, Length: 1011, dtype: object"
      ]
     },
     "execution_count": 17,
     "metadata": {},
     "output_type": "execute_result"
    }
   ],
   "source": [
    "### Cleaning the Text\n",
    "\n",
    "df['content']"
   ]
  },
  {
   "cell_type": "code",
   "execution_count": 18,
   "id": "2899ea33-98fd-46f2-9445-0b9633aa9633",
   "metadata": {},
   "outputs": [
    {
     "name": "stdout",
     "output_type": "stream",
     "text": [
      "Saved as cleaned_reddit_posts_final.csv\n"
     ]
    }
   ],
   "source": [
    "# Apply cleaning to dataset\n",
    "\n",
    "df['cleaned_content'] = df['content'].apply(clean_text)\n",
    "df = df.drop(columns=['content'])\n",
    "\n",
    "# Save cleaned dataset\n",
    "df.to_csv(\"cleaned_reddit_posts_final.csv\", index=False)\n",
    "print(\"Saved as cleaned_reddit_posts_final.csv\")\n"
   ]
  },
  {
   "cell_type": "code",
   "execution_count": 19,
   "id": "26db02a0-0c5e-44dd-a12a-2597891e2096",
   "metadata": {},
   "outputs": [
    {
     "data": {
      "text/html": [
       "<div>\n",
       "<style scoped>\n",
       "    .dataframe tbody tr th:only-of-type {\n",
       "        vertical-align: middle;\n",
       "    }\n",
       "\n",
       "    .dataframe tbody tr th {\n",
       "        vertical-align: top;\n",
       "    }\n",
       "\n",
       "    .dataframe thead th {\n",
       "        text-align: right;\n",
       "    }\n",
       "</style>\n",
       "<table border=\"1\" class=\"dataframe\">\n",
       "  <thead>\n",
       "    <tr style=\"text-align: right;\">\n",
       "      <th></th>\n",
       "      <th>subreddit</th>\n",
       "      <th>post_id</th>\n",
       "      <th>timestamp</th>\n",
       "      <th>upvotes</th>\n",
       "      <th>comments</th>\n",
       "      <th>shares</th>\n",
       "      <th>cleaned_content</th>\n",
       "    </tr>\n",
       "  </thead>\n",
       "  <tbody>\n",
       "    <tr>\n",
       "      <th>0</th>\n",
       "      <td>mentalhealth</td>\n",
       "      <td>1jmt04q</td>\n",
       "      <td>2025-03-29 18:37:15</td>\n",
       "      <td>14</td>\n",
       "      <td>6</td>\n",
       "      <td>0</td>\n",
       "      <td>alone always sit alone daily intrusive thought...</td>\n",
       "    </tr>\n",
       "    <tr>\n",
       "      <th>1</th>\n",
       "      <td>mentalhealth</td>\n",
       "      <td>1jmqcxh</td>\n",
       "      <td>2025-03-29 16:40:31</td>\n",
       "      <td>14</td>\n",
       "      <td>5</td>\n",
       "      <td>0</td>\n",
       "      <td>cope feeling like youre behind life lost lot y...</td>\n",
       "    </tr>\n",
       "    <tr>\n",
       "      <th>2</th>\n",
       "      <td>mentalhealth</td>\n",
       "      <td>1jmfpse</td>\n",
       "      <td>2025-03-29 05:50:57</td>\n",
       "      <td>54</td>\n",
       "      <td>48</td>\n",
       "      <td>0</td>\n",
       "      <td>girlfriend undergoing ect im ive known girlfri...</td>\n",
       "    </tr>\n",
       "    <tr>\n",
       "      <th>3</th>\n",
       "      <td>mentalhealth</td>\n",
       "      <td>1jmussn</td>\n",
       "      <td>2025-03-29 19:59:43</td>\n",
       "      <td>3</td>\n",
       "      <td>1</td>\n",
       "      <td>0</td>\n",
       "      <td>depression airforce hey title state im depress...</td>\n",
       "    </tr>\n",
       "    <tr>\n",
       "      <th>4</th>\n",
       "      <td>mentalhealth</td>\n",
       "      <td>1jmxgp2</td>\n",
       "      <td>2025-03-29 22:02:51</td>\n",
       "      <td>2</td>\n",
       "      <td>0</td>\n",
       "      <td>0</td>\n",
       "      <td>family believe anyone assumes mental physical ...</td>\n",
       "    </tr>\n",
       "  </tbody>\n",
       "</table>\n",
       "</div>"
      ],
      "text/plain": [
       "      subreddit  post_id            timestamp  upvotes  comments  shares  \\\n",
       "0  mentalhealth  1jmt04q  2025-03-29 18:37:15       14         6       0   \n",
       "1  mentalhealth  1jmqcxh  2025-03-29 16:40:31       14         5       0   \n",
       "2  mentalhealth  1jmfpse  2025-03-29 05:50:57       54        48       0   \n",
       "3  mentalhealth  1jmussn  2025-03-29 19:59:43        3         1       0   \n",
       "4  mentalhealth  1jmxgp2  2025-03-29 22:02:51        2         0       0   \n",
       "\n",
       "                                     cleaned_content  \n",
       "0  alone always sit alone daily intrusive thought...  \n",
       "1  cope feeling like youre behind life lost lot y...  \n",
       "2  girlfriend undergoing ect im ive known girlfri...  \n",
       "3  depression airforce hey title state im depress...  \n",
       "4  family believe anyone assumes mental physical ...  "
      ]
     },
     "execution_count": 19,
     "metadata": {},
     "output_type": "execute_result"
    }
   ],
   "source": [
    "df.head()"
   ]
  },
  {
   "cell_type": "markdown",
   "id": "63dbd696-4a4c-4a46-8701-8d2001cd8019",
   "metadata": {},
   "source": [
    "# Task 2: Sentiment & Crisis Risk Classification (NLP & Text Processing)\n"
   ]
  },
  {
   "cell_type": "code",
   "execution_count": 20,
   "id": "edb289a1-6a0c-4f3d-829f-7bc40a0e4106",
   "metadata": {},
   "outputs": [],
   "source": [
    "### Sentiment Analysis \n",
    "\n",
    "import torch\n",
    "from transformers import AutoModelForSequenceClassification, AutoTokenizer"
   ]
  },
  {
   "cell_type": "code",
   "execution_count": 21,
   "id": "a315eadb-df1c-49cf-833b-dda317c5e689",
   "metadata": {},
   "outputs": [
    {
     "name": "stderr",
     "output_type": "stream",
     "text": [
      "Some weights of BertForSequenceClassification were not initialized from the model checkpoint at bert-base-uncased and are newly initialized: ['classifier.bias', 'classifier.weight']\n",
      "You should probably TRAIN this model on a down-stream task to be able to use it for predictions and inference.\n"
     ]
    }
   ],
   "source": [
    "### bert \n",
    "\n",
    "MODEL_NAME = \"bert-base-uncased\"\n",
    "tokenizer = AutoTokenizer.from_pretrained(MODEL_NAME)\n",
    "model = AutoModelForSequenceClassification.from_pretrained(MODEL_NAME, num_labels=2, torch_dtype=torch.float16)"
   ]
  },
  {
   "cell_type": "code",
   "execution_count": 22,
   "id": "2d55eaa9-19c7-42c9-912a-67bbe5d3a8c0",
   "metadata": {},
   "outputs": [],
   "source": [
    "### Shift to GPU\n",
    "\n",
    "device = torch.device(\"cuda\" if torch.cuda.is_available() else \"cpu\")\n",
    "model.to(device)  # Move model to the selected device\n",
    "\n",
    "def classify_sentiment(text):    \n",
    "    # Tokenize and move inputs to the same device as the model\n",
    "    inputs = tokenizer(text, return_tensors=\"pt\", truncation=True, padding=True, max_length=128).to(device)\n",
    "    \n",
    "    # Run inference\n",
    "    with torch.no_grad():\n",
    "        outputs = model(**inputs)\n",
    "        \n",
    "    # Convert logits to probabilities\n",
    "    probs = torch.nn.functional.softmax(outputs.logits, dim=-1)\n",
    "    \n",
    "    # Sentiment classes\n",
    "    sentiment_classes = [\"Positive\", \"Negative\"] \n",
    "    \n",
    "    # Get the predicted sentiment based on the highest probability\n",
    "    predicted_class_idx = torch.argmax(probs).item()\n",
    "\n",
    "    # Assign sentiment based on predicted class\n",
    "    sentiment = sentiment_classes[predicted_class_idx]\n",
    " \n",
    "    return sentiment\n"
   ]
  },
  {
   "cell_type": "code",
   "execution_count": 23,
   "id": "3bbc2adf-e77a-4a72-a974-8dd5d32d4d42",
   "metadata": {},
   "outputs": [],
   "source": [
    "df[\"sentiment\"] = df[\"cleaned_content\"].apply(classify_sentiment)"
   ]
  },
  {
   "cell_type": "code",
   "execution_count": 24,
   "id": "08a1b4c5-70eb-4357-a5fc-a67f79e038c1",
   "metadata": {},
   "outputs": [
    {
     "data": {
      "text/plain": [
       "sentiment\n",
       "Negative    630\n",
       "Positive    381\n",
       "Name: count, dtype: int64"
      ]
     },
     "execution_count": 24,
     "metadata": {},
     "output_type": "execute_result"
    }
   ],
   "source": [
    "df['sentiment'].value_counts()"
   ]
  },
  {
   "cell_type": "code",
   "execution_count": 25,
   "id": "94629087-1a81-4435-aca9-f3effedcc5b6",
   "metadata": {},
   "outputs": [
    {
     "data": {
      "image/png": "[encoded data removed]",
      "text/plain": [
       "<Figure size 640x480 with 1 Axes>"
      ]
     },
     "metadata": {},
     "output_type": "display_data"
    }
   ],
   "source": [
    "### Plot sentiment distribution\n",
    "\n",
    "import matplotlib.pyplot as plt\n",
    "\n",
    "df[\"sentiment\"].value_counts().plot(kind=\"bar\", color=[\"red\", \"green\"])\n",
    "plt.xlabel(\"sentiment\")\n",
    "plt.ylabel(\"Count\")\n",
    "plt.title(\"Sentiment Distribution in Reddit Posts\")\n",
    "plt.xticks(rotation=0)\n",
    "plt.show()\n"
   ]
  },
  {
   "cell_type": "code",
   "execution_count": null,
   "id": "1ebed7b8-eda2-44c4-8e18-8ffd4e2f90c3",
   "metadata": {},
   "outputs": [],
   "source": []
  },
  {
   "cell_type": "code",
   "execution_count": 26,
   "id": "834d95a4-6b11-4054-b13c-5361852813c9",
   "metadata": {},
   "outputs": [
    {
     "name": "stderr",
     "output_type": "stream",
     "text": [
      "Some weights of DistilBertForSequenceClassification were not initialized from the model checkpoint at distilbert-base-uncased and are newly initialized: ['classifier.bias', 'classifier.weight', 'pre_classifier.bias', 'pre_classifier.weight']\n",
      "You should probably TRAIN this model on a down-stream task to be able to use it for predictions and inference.\n"
     ]
    }
   ],
   "source": [
    "# was going out of memory, hence shifted to cpu\n",
    "\n",
    "device=\"cpu\"\n",
    "\n",
    "MODEL_NAME = \"distilbert-base-uncased\"\n",
    "tokenizer = AutoTokenizer.from_pretrained(MODEL_NAME)\n",
    "model = AutoModelForSequenceClassification.from_pretrained(MODEL_NAME, num_labels=2).to(device)"
   ]
  },
  {
   "cell_type": "code",
   "execution_count": 27,
   "id": "28b6bd62-5b62-435c-8469-8c84132aba1d",
   "metadata": {},
   "outputs": [],
   "source": [
    "def get_distil_bert_embedding(text):\n",
    "    # Tokenize the input text and move the tokens to the same device as the model\n",
    "    inputs = tokenizer(text, return_tensors=\"pt\", truncation=True, padding=True, max_length=128).to(\"cpu\")\n",
    "    \n",
    "    # Run inference on the model (no gradients needed)\n",
    "    with torch.no_grad():\n",
    "        outputs = model(**inputs)\n",
    "    \n",
    "    # Get the embeddings \n",
    "    embedding = outputs.logits.squeeze().cpu().numpy()  # Move result back to CPU if needed\n",
    "\n",
    "    return embedding"
   ]
  },
  {
   "cell_type": "code",
   "execution_count": 28,
   "id": "9cae2f81-719e-489f-9edd-23b2b84039a8",
   "metadata": {},
   "outputs": [],
   "source": [
    "# Get embeddings for the entire DataFrame\n",
    "\n",
    "df[\"bert_embedding\"] = df[\"cleaned_content\"].apply(get_distil_bert_embedding)"
   ]
  },
  {
   "cell_type": "code",
   "execution_count": 29,
   "id": "27ff99bf-61ab-462e-86a1-45c68498dab8",
   "metadata": {},
   "outputs": [
    {
     "data": {
      "text/plain": [
       "0         [0.15992293, 0.12158675]\n",
       "1         [0.07979078, 0.07175123]\n",
       "2       [0.081746265, 0.068549454]\n",
       "3        [0.17509423, 0.123542525]\n",
       "4         [0.09169402, 0.12562902]\n",
       "                   ...            \n",
       "1006     [0.109653085, 0.10893908]\n",
       "1007      [0.108014524, 0.0853965]\n",
       "1008     [0.14413182, 0.106053874]\n",
       "1009      [0.14760879, 0.10696932]\n",
       "1010      [0.10623103, 0.09550643]\n",
       "Name: bert_embedding, Length: 1011, dtype: object"
      ]
     },
     "execution_count": 29,
     "metadata": {},
     "output_type": "execute_result"
    }
   ],
   "source": [
    "df[\"bert_embedding\"] "
   ]
  },
  {
   "cell_type": "code",
   "execution_count": null,
   "id": "f6e78e47-45fc-4ea6-ab4d-5fac285ccd16",
   "metadata": {},
   "outputs": [],
   "source": []
  },
  {
   "cell_type": "code",
   "execution_count": null,
   "id": "fba6a7f7-4a10-4e80-ba6b-30b5c4f837a4",
   "metadata": {},
   "outputs": [],
   "source": []
  },
  {
   "cell_type": "code",
   "execution_count": 30,
   "id": "52a9bdc3-be42-4d6d-88fd-1e6f2789dd38",
   "metadata": {},
   "outputs": [],
   "source": [
    "# Convert embeddings to array\n",
    "X = np.vstack(df['bert_embedding'].values)"
   ]
  },
  {
   "cell_type": "code",
   "execution_count": 31,
   "id": "dd9fa8be-853e-4d34-840b-7a28a3e36bc0",
   "metadata": {},
   "outputs": [],
   "source": [
    "# Define risk keywords\n",
    "\n",
    "high_risk_keywords = [\n",
    "    \"suicide\", \"end it\", \"kill myself\", \"no reason to live\", \"goodbye\",\n",
    "    \"i can't go on\", \"want to disappear\", \"i want to die\"\n",
    "]\n",
    "moderate_risk_keywords = [\n",
    "    \"feel lost\", \"struggling\", \"hopeless\", \"depressed\", \"numb\",\n",
    "    \"no motivation\", \"lonely\", \"empty\", \"anxious\", \"tired of everything\"]"
   ]
  },
  {
   "cell_type": "code",
   "execution_count": 32,
   "id": "f2242b4c-3c68-4b67-b8a9-9e9c5023ecb7",
   "metadata": {},
   "outputs": [],
   "source": [
    "# Function to classify posts based on keywords\n",
    "\n",
    "def classify_risk(text):\n",
    "    text = text.lower()\n",
    "    if any(term in text for term in high_risk_keywords):\n",
    "        return 'High-Risk'\n",
    "    elif any(term in text for term in moderate_risk_keywords):\n",
    "        return 'Moderate Concern'\n",
    "    else:\n",
    "        return 'Low Concern'"
   ]
  },
  {
   "cell_type": "code",
   "execution_count": 33,
   "id": "ade9b010-dd77-47e5-8200-3b6773a6d490",
   "metadata": {},
   "outputs": [],
   "source": [
    "# Apply the function\n",
    "\n",
    "df['risk_level'] = df['cleaned_content'].apply(classify_risk)"
   ]
  },
  {
   "cell_type": "code",
   "execution_count": 34,
   "id": "d512f04d-bd13-4761-8250-52ae82be46b8",
   "metadata": {},
   "outputs": [
    {
     "name": "stdout",
     "output_type": "stream",
     "text": [
      "risk_level\n",
      "Low Concern         553\n",
      "Moderate Concern    349\n",
      "High-Risk           109\n",
      "Name: count, dtype: int64\n"
     ]
    }
   ],
   "source": [
    "# Check new class distribution\n",
    "print(df['risk_level'].value_counts())"
   ]
  },
  {
   "cell_type": "code",
   "execution_count": 35,
   "id": "7ff9c425-bec0-4665-af58-14ff71b89770",
   "metadata": {},
   "outputs": [],
   "source": [
    "# Convert labels to numerical format\n",
    "\n",
    "y = df['risk_level'].map({'High-Risk': 2, 'Moderate Concern': 1, 'Low Concern': 0})"
   ]
  },
  {
   "cell_type": "code",
   "execution_count": 36,
   "id": "7145b89e-083f-404c-8c64-6cb37cde3454",
   "metadata": {},
   "outputs": [
    {
     "data": {
      "text/plain": [
       "risk_level\n",
       "0    553\n",
       "1    349\n",
       "2    109\n",
       "Name: count, dtype: int64"
      ]
     },
     "execution_count": 36,
     "metadata": {},
     "output_type": "execute_result"
    }
   ],
   "source": [
    "y.value_counts()"
   ]
  },
  {
   "cell_type": "code",
   "execution_count": 37,
   "id": "5c760642-94a0-43a1-ab09-f1dc98b9a208",
   "metadata": {},
   "outputs": [],
   "source": [
    "from sklearn.preprocessing import LabelEncoder\n",
    "\n",
    "encoder = LabelEncoder()\n",
    "y = encoder.fit_transform(y)"
   ]
  },
  {
   "cell_type": "code",
   "execution_count": 38,
   "id": "7b3abcf9-ebd0-4538-bff5-dc1ca873dd0d",
   "metadata": {},
   "outputs": [
    {
     "data": {
      "text/plain": [
       "(1011,)"
      ]
     },
     "execution_count": 38,
     "metadata": {},
     "output_type": "execute_result"
    }
   ],
   "source": [
    "y.shape"
   ]
  },
  {
   "cell_type": "code",
   "execution_count": 39,
   "id": "8bcfe0e9-db27-4bd5-a37b-d2b9705b6a65",
   "metadata": {},
   "outputs": [],
   "source": [
    "from sklearn.ensemble import RandomForestClassifier\n",
    "from sklearn.model_selection import train_test_split\n",
    "from sklearn.metrics import classification_report"
   ]
  },
  {
   "cell_type": "code",
   "execution_count": 40,
   "id": "f0fa7a52-e7a3-432d-9b37-540a9547760f",
   "metadata": {},
   "outputs": [],
   "source": [
    "# Train Random Forest classifier with class weights\n",
    "\n",
    "clf = RandomForestClassifier(n_estimators=100, class_weight='balanced', random_state=42)\n",
    "X_train, X_test, y_train, y_test = train_test_split(X, y, test_size=0.3, random_state=42)\n",
    "\n",
    "clf.fit(X_train, y_train)\n",
    "\n",
    "# Predictions\n",
    "y_pred = clf.predict(X_test)\n"
   ]
  },
  {
   "cell_type": "code",
   "execution_count": 41,
   "id": "4c504aa4-4ca6-43e6-8a28-22f65006bf42",
   "metadata": {},
   "outputs": [
    {
     "name": "stdout",
     "output_type": "stream",
     "text": [
      "                  precision    recall  f1-score   support\n",
      "\n",
      "     Low Concern       0.64      0.73      0.68       161\n",
      "Moderate Concern       0.50      0.48      0.49       110\n",
      "       High-Risk       0.62      0.24      0.35        33\n",
      "\n",
      "        accuracy                           0.59       304\n",
      "       macro avg       0.58      0.49      0.51       304\n",
      "    weighted avg       0.59      0.59      0.58       304\n",
      "\n"
     ]
    }
   ],
   "source": [
    "# Print classification report\n",
    "\n",
    "print(classification_report(y_test, y_pred, labels=[0, 1, 2], target_names=['Low Concern', 'Moderate Concern', 'High-Risk']))"
   ]
  },
  {
   "cell_type": "markdown",
   "id": "b078d5ef-ea65-4de6-a452-d8610a7b43b4",
   "metadata": {},
   "source": [
    "### Crisis Risk Classification (TF-IDF & Rule-Based Detection)\n"
   ]
  },
  {
   "cell_type": "code",
   "execution_count": 42,
   "id": "e66c6403-2ba0-4715-8ff3-1c0a093c3c77",
   "metadata": {},
   "outputs": [],
   "source": [
    "high_risk_terms = [\n",
    "    \"i don’t want to be here\", \"i want to end it\", \"life is meaningless\", \n",
    "    \"no reason to live\", \"i can’t go on\", \"goodbye everyone\", \"ending it all\"\n",
    "]\n",
    "\n",
    "moderate_risk_terms = [\n",
    "    \"i feel lost\", \"struggling\", \"overwhelmed\", \"i need help\", \"nobody understands\", \n",
    "    \"depressed\", \"can’t cope\", \"feeling empty\"]"
   ]
  },
  {
   "cell_type": "code",
   "execution_count": 43,
   "id": "c83b2681-7315-437a-b667-9a26a8df7169",
   "metadata": {},
   "outputs": [],
   "source": [
    "# Function to classify crisis risk level\n",
    "\n",
    "def classify_risk(text):\n",
    "    text_lower = text.lower()\n",
    "    if any(term in text_lower for term in high_risk_terms):\n",
    "        return \"High-Risk\"\n",
    "    elif any(term in text_lower for term in moderate_risk_terms):\n",
    "        return \"Moderate Concern\"\n",
    "    else:\n",
    "        return \"Low Concern\""
   ]
  },
  {
   "cell_type": "code",
   "execution_count": 44,
   "id": "21833750-a75d-4410-baa9-791d7a6806e8",
   "metadata": {},
   "outputs": [
    {
     "name": "stdout",
     "output_type": "stream",
     "text": [
      "Crisis risk classification\n"
     ]
    }
   ],
   "source": [
    "# Apply risk classification\n",
    "df[\"Risk_Level\"] = df[\"cleaned_content\"].apply(classify_risk)\n",
    "\n",
    "# Save the updated dataset\n",
    "df.to_csv(\"classified_twitter_data.csv\", index=False)\n",
    "print(\"Crisis risk classification\")"
   ]
  },
  {
   "cell_type": "markdown",
   "id": "cea674ec-7d01-45dc-9758-2ce3ad90b68b",
   "metadata": {},
   "source": [
    "### Visualizing Sentiment & Risk Distribution\n"
   ]
  },
  {
   "cell_type": "code",
   "execution_count": 45,
   "id": "47fadb98-d9f1-4bd7-94ae-f5045beaa909",
   "metadata": {},
   "outputs": [
    {
     "data": {
      "text/html": [
       "<div>\n",
       "<style scoped>\n",
       "    .dataframe tbody tr th:only-of-type {\n",
       "        vertical-align: middle;\n",
       "    }\n",
       "\n",
       "    .dataframe tbody tr th {\n",
       "        vertical-align: top;\n",
       "    }\n",
       "\n",
       "    .dataframe thead th {\n",
       "        text-align: right;\n",
       "    }\n",
       "</style>\n",
       "<table border=\"1\" class=\"dataframe\">\n",
       "  <thead>\n",
       "    <tr style=\"text-align: right;\">\n",
       "      <th></th>\n",
       "      <th>subreddit</th>\n",
       "      <th>post_id</th>\n",
       "      <th>timestamp</th>\n",
       "      <th>upvotes</th>\n",
       "      <th>comments</th>\n",
       "      <th>shares</th>\n",
       "      <th>cleaned_content</th>\n",
       "      <th>sentiment</th>\n",
       "      <th>bert_embedding</th>\n",
       "      <th>risk_level</th>\n",
       "      <th>Risk_Level</th>\n",
       "    </tr>\n",
       "  </thead>\n",
       "  <tbody>\n",
       "    <tr>\n",
       "      <th>0</th>\n",
       "      <td>mentalhealth</td>\n",
       "      <td>1jmt04q</td>\n",
       "      <td>2025-03-29 18:37:15</td>\n",
       "      <td>14</td>\n",
       "      <td>6</td>\n",
       "      <td>0</td>\n",
       "      <td>alone always sit alone daily intrusive thought...</td>\n",
       "      <td>Negative</td>\n",
       "      <td>[0.15992293, 0.12158675]</td>\n",
       "      <td>Low Concern</td>\n",
       "      <td>Low Concern</td>\n",
       "    </tr>\n",
       "    <tr>\n",
       "      <th>1</th>\n",
       "      <td>mentalhealth</td>\n",
       "      <td>1jmqcxh</td>\n",
       "      <td>2025-03-29 16:40:31</td>\n",
       "      <td>14</td>\n",
       "      <td>5</td>\n",
       "      <td>0</td>\n",
       "      <td>cope feeling like youre behind life lost lot y...</td>\n",
       "      <td>Negative</td>\n",
       "      <td>[0.07979078, 0.07175123]</td>\n",
       "      <td>Low Concern</td>\n",
       "      <td>Low Concern</td>\n",
       "    </tr>\n",
       "    <tr>\n",
       "      <th>2</th>\n",
       "      <td>mentalhealth</td>\n",
       "      <td>1jmfpse</td>\n",
       "      <td>2025-03-29 05:50:57</td>\n",
       "      <td>54</td>\n",
       "      <td>48</td>\n",
       "      <td>0</td>\n",
       "      <td>girlfriend undergoing ect im ive known girlfri...</td>\n",
       "      <td>Positive</td>\n",
       "      <td>[0.081746265, 0.068549454]</td>\n",
       "      <td>Moderate Concern</td>\n",
       "      <td>Moderate Concern</td>\n",
       "    </tr>\n",
       "    <tr>\n",
       "      <th>3</th>\n",
       "      <td>mentalhealth</td>\n",
       "      <td>1jmussn</td>\n",
       "      <td>2025-03-29 19:59:43</td>\n",
       "      <td>3</td>\n",
       "      <td>1</td>\n",
       "      <td>0</td>\n",
       "      <td>depression airforce hey title state im depress...</td>\n",
       "      <td>Positive</td>\n",
       "      <td>[0.17509423, 0.123542525]</td>\n",
       "      <td>Moderate Concern</td>\n",
       "      <td>Moderate Concern</td>\n",
       "    </tr>\n",
       "    <tr>\n",
       "      <th>4</th>\n",
       "      <td>mentalhealth</td>\n",
       "      <td>1jmxgp2</td>\n",
       "      <td>2025-03-29 22:02:51</td>\n",
       "      <td>2</td>\n",
       "      <td>0</td>\n",
       "      <td>0</td>\n",
       "      <td>family believe anyone assumes mental physical ...</td>\n",
       "      <td>Negative</td>\n",
       "      <td>[0.09169402, 0.12562902]</td>\n",
       "      <td>Low Concern</td>\n",
       "      <td>Low Concern</td>\n",
       "    </tr>\n",
       "  </tbody>\n",
       "</table>\n",
       "</div>"
      ],
      "text/plain": [
       "      subreddit  post_id            timestamp  upvotes  comments  shares  \\\n",
       "0  mentalhealth  1jmt04q  2025-03-29 18:37:15       14         6       0   \n",
       "1  mentalhealth  1jmqcxh  2025-03-29 16:40:31       14         5       0   \n",
       "2  mentalhealth  1jmfpse  2025-03-29 05:50:57       54        48       0   \n",
       "3  mentalhealth  1jmussn  2025-03-29 19:59:43        3         1       0   \n",
       "4  mentalhealth  1jmxgp2  2025-03-29 22:02:51        2         0       0   \n",
       "\n",
       "                                     cleaned_content sentiment  \\\n",
       "0  alone always sit alone daily intrusive thought...  Negative   \n",
       "1  cope feeling like youre behind life lost lot y...  Negative   \n",
       "2  girlfriend undergoing ect im ive known girlfri...  Positive   \n",
       "3  depression airforce hey title state im depress...  Positive   \n",
       "4  family believe anyone assumes mental physical ...  Negative   \n",
       "\n",
       "               bert_embedding        risk_level        Risk_Level  \n",
       "0    [0.15992293, 0.12158675]       Low Concern       Low Concern  \n",
       "1    [0.07979078, 0.07175123]       Low Concern       Low Concern  \n",
       "2  [0.081746265, 0.068549454]  Moderate Concern  Moderate Concern  \n",
       "3   [0.17509423, 0.123542525]  Moderate Concern  Moderate Concern  \n",
       "4    [0.09169402, 0.12562902]       Low Concern       Low Concern  "
      ]
     },
     "execution_count": 45,
     "metadata": {},
     "output_type": "execute_result"
    }
   ],
   "source": [
    "df.head()"
   ]
  },
  {
   "cell_type": "code",
   "execution_count": 46,
   "id": "85e9a738-ada9-4c8c-bc8d-2e44a42ba7e4",
   "metadata": {},
   "outputs": [],
   "source": [
    "import matplotlib.pyplot as plt\n",
    "import seaborn as sns\n",
    "\n",
    "# Set style\n",
    "sns.set_style(\"darkgrid\")"
   ]
  },
  {
   "cell_type": "code",
   "execution_count": 47,
   "id": "9ac16cc2-176c-41e6-9724-b162881f0703",
   "metadata": {},
   "outputs": [
    {
     "name": "stderr",
     "output_type": "stream",
     "text": [
      "/tmp/ipykernel_60599/1466266466.py:4: FutureWarning: \n",
      "\n",
      "Passing `palette` without assigning `hue` is deprecated and will be removed in v0.14.0. Assign the `x` variable to `hue` and set `legend=False` for the same effect.\n",
      "\n",
      "  sns.countplot(x=df[\"sentiment\"], palette=\"coolwarm\", legend=False)\n"
     ]
    },
    {
     "data": {
      "image/png": "[encoded data removed]",
      "text/plain": [
       "<Figure size 800x400 with 1 Axes>"
      ]
     },
     "metadata": {},
     "output_type": "display_data"
    }
   ],
   "source": [
    "# Plot sentiment distribution\n",
    "\n",
    "plt.figure(figsize=(8, 4))\n",
    "sns.countplot(x=df[\"sentiment\"], palette=\"coolwarm\", legend=False)\n",
    "plt.title(\"Sentiment Analysis Distribution\")\n",
    "plt.show()"
   ]
  },
  {
   "cell_type": "code",
   "execution_count": 48,
   "id": "8bfc819a-d288-4c96-8d16-e713900bfe90",
   "metadata": {},
   "outputs": [
    {
     "name": "stderr",
     "output_type": "stream",
     "text": [
      "/tmp/ipykernel_60599/258807394.py:4: FutureWarning: \n",
      "\n",
      "Passing `palette` without assigning `hue` is deprecated and will be removed in v0.14.0. Assign the `x` variable to `hue` and set `legend=False` for the same effect.\n",
      "\n",
      "  sns.countplot(x=df[\"Risk_Level\"], palette=\"Reds\")\n"
     ]
    },
    {
     "data": {
      "image/png": "[encoded data removed]",
      "text/plain": [
       "<Figure size 800x400 with 1 Axes>"
      ]
     },
     "metadata": {},
     "output_type": "display_data"
    }
   ],
   "source": [
    "# Plot risk level distribution\n",
    "\n",
    "plt.figure(figsize=(8, 4))\n",
    "sns.countplot(x=df[\"Risk_Level\"], palette=\"Reds\")\n",
    "plt.title(\"Crisis Risk Classification Distribution\")\n",
    "plt.show()"
   ]
  },
  {
   "cell_type": "markdown",
   "id": "0a878314-458c-4e5b-be2c-356cbfcd5f49",
   "metadata": {},
   "source": [
    "# Task 3: Crisis Geolocation & Mapping (Basic Geospatial Analysis & Visualization)\n"
   ]
  },
  {
   "cell_type": "code",
   "execution_count": 52,
   "id": "9b632df4-22ef-4af5-be70-e8032217ff7c",
   "metadata": {},
   "outputs": [],
   "source": [
    "import folium\n",
    "from folium.plugins import HeatMap\n",
    "from geopy.geocoders import Nominatim\n",
    "import spacy\n",
    "nlp = spacy.load('en_core_web_sm')"
   ]
  },
  {
   "cell_type": "code",
   "execution_count": 53,
   "id": "79e99764-1732-4dc3-b8ed-525b5b4962e1",
   "metadata": {},
   "outputs": [],
   "source": [
    "# Function to extract locations from text\n",
    "\n",
    "def extract_location(text):\n",
    "    doc = nlp(text)\n",
    "    locations = [ent.text for ent in doc.ents if ent.label_  == \"GPE\"]  ##GeoPoliticalEntity\n",
    "    \n",
    "    return list(set(locations)) if locations else None"
   ]
  },
  {
   "cell_type": "code",
   "execution_count": 54,
   "id": "37c1024b-5561-4d7b-94d5-9ec89041a3b1",
   "metadata": {},
   "outputs": [],
   "source": [
    "# Apply location extraction\n",
    "\n",
    "df['location'] = df['cleaned_content'].apply(extract_location)"
   ]
  },
  {
   "cell_type": "code",
   "execution_count": 55,
   "id": "96cc59cc-3b6d-4dc0-9154-f9bc832a22ef",
   "metadata": {},
   "outputs": [
    {
     "data": {
      "text/plain": [
       "location\n",
       "[kinda]                                                                  8\n",
       "[australia]                                                              4\n",
       "[canada]                                                                 4\n",
       "[china]                                                                  3\n",
       "[phobia]                                                                 3\n",
       "[uk]                                                                     3\n",
       "[california]                                                             3\n",
       "[egypt]                                                                  2\n",
       "[france]                                                                 2\n",
       "[turkey]                                                                 2\n",
       "[denver]                                                                 2\n",
       "[georgia]                                                                2\n",
       "[finaly]                                                                 2\n",
       "[florida]                                                                2\n",
       "[probbaly]                                                               2\n",
       "[pennsylvania, texas]                                                    1\n",
       "[peru]                                                                   1\n",
       "[iran]                                                                   1\n",
       "[colorado]                                                               1\n",
       "[venlafaxineeffexor]                                                     1\n",
       "[tryng]                                                                  1\n",
       "[northeastern city fall]                                                 1\n",
       "[panama city beach]                                                      1\n",
       "[thrill, wwii]                                                           1\n",
       "[new orleans, mdma]                                                      1\n",
       "[meth]                                                                   1\n",
       "[placeim, london, germany]                                               1\n",
       "[australia, malaysia]                                                    1\n",
       "[japan]                                                                  1\n",
       "[toronto]                                                                1\n",
       "[septum]                                                                 1\n",
       "[netflix]                                                                1\n",
       "[north carolina, virginia, berkeley, california, santa cruz, oakland]    1\n",
       "[amygdala]                                                               1\n",
       "[washington, delaware, ohio]                                             1\n",
       "[wrongon]                                                                1\n",
       "[san francisco]                                                          1\n",
       "[pakistan]                                                               1\n",
       "[new york]                                                               1\n",
       "[netherlands]                                                            1\n",
       "[south carolina, florida]                                                1\n",
       "[vietnam]                                                                1\n",
       "[snris, phobia]                                                          1\n",
       "[kinda, thrill]                                                          1\n",
       "[chicago]                                                                1\n",
       "[chicago, san diego]                                                     1\n",
       "[el paso, texas]                                                         1\n",
       "Name: count, dtype: int64"
      ]
     },
     "execution_count": 55,
     "metadata": {},
     "output_type": "execute_result"
    }
   ],
   "source": [
    "df['location'].value_counts()"
   ]
  },
  {
   "cell_type": "code",
   "execution_count": 56,
   "id": "e52118e3-41b3-42f1-b214-4ccc714c15f3",
   "metadata": {},
   "outputs": [],
   "source": [
    "#Geocode valid locations\n",
    "\n",
    "geolocator = Nominatim(user_agent=\"geo_crisis_analysis\")\n",
    "\n",
    "def geocode_location(location):\n",
    "    if location:\n",
    "        try:\n",
    "            geo = geolocator.geocode(location)\n",
    "            return (geo.latitude, geo.longitude) if geo else None\n",
    "        except:\n",
    "            return None\n",
    "    return None"
   ]
  },
  {
   "cell_type": "code",
   "execution_count": 57,
   "id": "d6430d44-95f4-414b-8f4a-c6e503a2fd77",
   "metadata": {},
   "outputs": [],
   "source": [
    "### Let us find the coordinates\n",
    "\n",
    "df['coordinates'] = df['location'].apply(geocode_location)\n",
    "df = df.dropna(subset=['coordinates'])"
   ]
  },
  {
   "cell_type": "code",
   "execution_count": 58,
   "id": "8cf6ceef-cde8-44be-9957-eeef4bba4af8",
   "metadata": {},
   "outputs": [],
   "source": [
    "# Generate Heatmap\n",
    "\n",
    "def generate_heatmap(data):\n",
    "    heatmap_data = [(lat, lon) for lat, lon in data]\n",
    "    map_ = folium.Map(location=[20, 0], zoom_start=2)\n",
    "    HeatMap(heatmap_data).add_to(map_)\n",
    "    return map_"
   ]
  },
  {
   "cell_type": "code",
   "execution_count": 59,
   "id": "9668d4dc-345e-4f90-b405-24138910c544",
   "metadata": {},
   "outputs": [],
   "source": [
    "heatmap = generate_heatmap(df['coordinates'].tolist())\n",
    "heatmap.save(\"crisis_heatmap.html\")"
   ]
  },
  {
   "cell_type": "code",
   "execution_count": 60,
   "id": "f171cf40-2bec-4acf-90f5-f238955d2e0c",
   "metadata": {},
   "outputs": [
    {
     "data": {
      "text/html": [
       "\n",
       "        <iframe\n",
       "            width=\"800\"\n",
       "            height=\"600\"\n",
       "            src=\"crisis_heatmap.html\"\n",
       "            frameborder=\"0\"\n",
       "            allowfullscreen\n",
       "            \n",
       "        ></iframe>\n",
       "        "
      ],
      "text/plain": [
       "<IPython.lib.display.IFrame at 0x73187c597080>"
      ]
     },
     "execution_count": 60,
     "metadata": {},
     "output_type": "execute_result"
    }
   ],
   "source": [
    "### View the heatmap directly in the jupyter notebook cell\n",
    "\n",
    "from IPython.display import IFrame\n",
    "\n",
    "IFrame(\"crisis_heatmap.html\", width=800, height=600)\n"
   ]
  },
  {
   "cell_type": "code",
   "execution_count": null,
   "id": "c282a464-b55b-403a-86f8-4521769b9d63",
   "metadata": {},
   "outputs": [],
   "source": []
  },
  {
   "cell_type": "code",
   "execution_count": null,
   "id": "922a4f7c-4582-4531-b0d2-f577ca11810d",
   "metadata": {},
   "outputs": [],
   "source": []
  }
 ],
 "metadata": {
  "kernelspec": {
   "display_name": "Python 3 (ipykernel)",
   "language": "python",
   "name": "python3"
  },
  "language_info": {
   "codemirror_mode": {
    "name": "ipython",
    "version": 3
   },
   "file_extension": ".py",
   "mimetype": "text/x-python",
   "name": "python",
   "nbconvert_exporter": "python",
   "pygments_lexer": "ipython3",
   "version": "3.12.8"
  }
 },
 "nbformat": 4,
 "nbformat_minor": 5
}
