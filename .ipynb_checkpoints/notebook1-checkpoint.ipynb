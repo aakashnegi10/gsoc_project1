{
 "cells": [
  {
   "cell_type": "code",
   "execution_count": 1,
   "id": "80805793-123b-4ab4-b040-b9a9e0d4b7e0",
   "metadata": {},
   "outputs": [],
   "source": [
    "####  Working on GSOC"
   ]
  },
  {
   "cell_type": "code",
   "execution_count": 2,
   "id": "7bcf1594-6416-4d70-8376-fd4ef2d3fe39",
   "metadata": {},
   "outputs": [],
   "source": [
    "## Task 1: Social Media Data Extraction & Preprocessing (API Handling & Text Cleaning)\n"
   ]
  },
  {
   "cell_type": "code",
   "execution_count": 4,
   "id": "854f611e-e866-462c-8777-e3583ba7da40",
   "metadata": {},
   "outputs": [],
   "source": [
    "import pandas as pd\n",
    "\n",
    "import tweepy"
   ]
  },
  {
   "cell_type": "code",
   "execution_count": 5,
   "id": "f8f4584f-f3ff-449e-8ceb-47b789914099",
   "metadata": {},
   "outputs": [],
   "source": [
    "### My keys\n",
    "\n",
    "API_KEY = \"MQl6JqRK2YTb1AQg1leAiu6ET\"\n",
    "API_SECRET = \"GSq3rZN0d86zkBDx6s8JkI5ZkAIaHJ5897hlwluy4ibbLNLlcM\"\n",
    "BEARER_TOKEN = \"AAAAAAAAAAAAAAAAAAAAAGRZZgEAAAAASCZ1Mw9xjXI6cyc7RMI9Lvurv%2FY%3DOtmBNmZk8Qgw1NaQ2wXtGfkICUU1Ng7mhbPDscuiqGiqdPEU3z\"\n"
   ]
  },
  {
   "cell_type": "code",
   "execution_count": 6,
   "id": "9325f4ac-c7d4-4248-abdc-3d421a94915f",
   "metadata": {},
   "outputs": [],
   "source": [
    "# Authenticate with Twitter API\n",
    "client = tweepy.Client(bearer_token=BEARER_TOKEN)\n"
   ]
  },
  {
   "cell_type": "code",
   "execution_count": 7,
   "id": "0ec3a1e5-ca4b-4862-9313-4a13767354bc",
   "metadata": {},
   "outputs": [],
   "source": [
    "keywords = [\n",
    "    \"depressed\",\n",
    "    \"anxiety attack\",\n",
    "    \"panic disorder\",\n",
    "    \"mental breakdown\",\n",
    "    \"overwhelmed\",\n",
    "    \"addiction help\",\n",
    "    \"drug abuse\",\n",
    "    \"relapse\",\n",
    "    \"suicidal thoughts\",\n",
    "    \"self harm\"\n",
    "]"
   ]
  },
  {
   "cell_type": "code",
   "execution_count": 8,
   "id": "ee38d320-0f20-47f4-a8c1-43d0f5721f74",
   "metadata": {},
   "outputs": [],
   "source": [
    "# Fetch recent tweets (adjust query as needed)\n",
    "query = \" OR \".join(keywords) + \" -is:retweet lang:en\"\n",
    "\n",
    "tweets = client.search_recent_tweets(query=query, tweet_fields=[\"id\", \"text\", \"created_at\", \"public_metrics\"], max_results=100)\n"
   ]
  },
  {
   "cell_type": "code",
   "execution_count": 9,
   "id": "20ab319d-9f1f-4a5d-9248-28d2a8a31bd1",
   "metadata": {},
   "outputs": [],
   "source": [
    "# Store extracted data\n",
    "data = []\n",
    "for tweet in tweets.data:\n",
    "    data.append({\n",
    "        \"Post ID\": tweet.id,\n",
    "        \"Timestamp\": tweet.created_at,\n",
    "        \"Content\": tweet.text,\n",
    "        \"Likes\": tweet.public_metrics[\"like_count\"],\n",
    "        \"Replies\": tweet.public_metrics[\"reply_count\"],\n",
    "        \"Retweets\": tweet.public_metrics[\"retweet_count\"]\n",
    "    })\n"
   ]
  },
  {
   "cell_type": "code",
   "execution_count": 10,
   "id": "c7e6286c-4213-4edd-bcd1-4b58f6915507",
   "metadata": {},
   "outputs": [
    {
     "name": "stdout",
     "output_type": "stream",
     "text": [
      "✅ Data saved successfully!\n"
     ]
    }
   ],
   "source": [
    "# Save to CSV\n",
    "df = pd.DataFrame(data)\n",
    "df.to_csv(\"twitter_data.csv\", index=False)\n",
    "\n",
    "print(\"✅ Data saved successfully!\")\n"
   ]
  },
  {
   "cell_type": "code",
   "execution_count": 11,
   "id": "20d9e28b-4f26-41e1-8b87-0829405a306a",
   "metadata": {},
   "outputs": [
    {
     "data": {
      "text/html": [
       "<div>\n",
       "<style scoped>\n",
       "    .dataframe tbody tr th:only-of-type {\n",
       "        vertical-align: middle;\n",
       "    }\n",
       "\n",
       "    .dataframe tbody tr th {\n",
       "        vertical-align: top;\n",
       "    }\n",
       "\n",
       "    .dataframe thead th {\n",
       "        text-align: right;\n",
       "    }\n",
       "</style>\n",
       "<table border=\"1\" class=\"dataframe\">\n",
       "  <thead>\n",
       "    <tr style=\"text-align: right;\">\n",
       "      <th></th>\n",
       "      <th>Post ID</th>\n",
       "      <th>Timestamp</th>\n",
       "      <th>Content</th>\n",
       "      <th>Likes</th>\n",
       "      <th>Replies</th>\n",
       "      <th>Retweets</th>\n",
       "    </tr>\n",
       "  </thead>\n",
       "  <tbody>\n",
       "    <tr>\n",
       "      <th>0</th>\n",
       "      <td>1904554799669932296</td>\n",
       "      <td>2025-03-25 15:23:43+00:00</td>\n",
       "      <td>RT @elonmuskDRY: I’m feeling depressed ￼ and c...</td>\n",
       "      <td>0</td>\n",
       "      <td>0</td>\n",
       "      <td>86</td>\n",
       "    </tr>\n",
       "    <tr>\n",
       "      <th>1</th>\n",
       "      <td>1904554776450281855</td>\n",
       "      <td>2025-03-25 15:23:38+00:00</td>\n",
       "      <td>RT @user0000O0: not now sweetie mommy needs to...</td>\n",
       "      <td>0</td>\n",
       "      <td>0</td>\n",
       "      <td>2425</td>\n",
       "    </tr>\n",
       "    <tr>\n",
       "      <th>2</th>\n",
       "      <td>1904554775091495358</td>\n",
       "      <td>2025-03-25 15:23:37+00:00</td>\n",
       "      <td>I don’t often compliment programs these days b...</td>\n",
       "      <td>0</td>\n",
       "      <td>0</td>\n",
       "      <td>0</td>\n",
       "    </tr>\n",
       "    <tr>\n",
       "      <th>3</th>\n",
       "      <td>1904554772369113592</td>\n",
       "      <td>2025-03-25 15:23:37+00:00</td>\n",
       "      <td>RT @praisethesteph: ⚠️ 🇨🇿#Czechia: In Polička,...</td>\n",
       "      <td>0</td>\n",
       "      <td>0</td>\n",
       "      <td>67</td>\n",
       "    </tr>\n",
       "    <tr>\n",
       "      <th>4</th>\n",
       "      <td>1904554768283951455</td>\n",
       "      <td>2025-03-25 15:23:36+00:00</td>\n",
       "      <td>RT @PathOfMen_: A man who is disciplined, work...</td>\n",
       "      <td>0</td>\n",
       "      <td>0</td>\n",
       "      <td>109</td>\n",
       "    </tr>\n",
       "  </tbody>\n",
       "</table>\n",
       "</div>"
      ],
      "text/plain": [
       "               Post ID                 Timestamp  \\\n",
       "0  1904554799669932296 2025-03-25 15:23:43+00:00   \n",
       "1  1904554776450281855 2025-03-25 15:23:38+00:00   \n",
       "2  1904554775091495358 2025-03-25 15:23:37+00:00   \n",
       "3  1904554772369113592 2025-03-25 15:23:37+00:00   \n",
       "4  1904554768283951455 2025-03-25 15:23:36+00:00   \n",
       "\n",
       "                                             Content  Likes  Replies  Retweets  \n",
       "0  RT @elonmuskDRY: I’m feeling depressed ￼ and c...      0        0        86  \n",
       "1  RT @user0000O0: not now sweetie mommy needs to...      0        0      2425  \n",
       "2  I don’t often compliment programs these days b...      0        0         0  \n",
       "3  RT @praisethesteph: ⚠️ 🇨🇿#Czechia: In Polička,...      0        0        67  \n",
       "4  RT @PathOfMen_: A man who is disciplined, work...      0        0       109  "
      ]
     },
     "execution_count": 11,
     "metadata": {},
     "output_type": "execute_result"
    }
   ],
   "source": [
    "df.head()"
   ]
  },
  {
   "cell_type": "code",
   "execution_count": 14,
   "id": "1c2d7161-3847-4241-bf6f-5b4e2283b4bc",
   "metadata": {},
   "outputs": [
    {
     "data": {
      "text/plain": [
       "(100, 6)"
      ]
     },
     "execution_count": 14,
     "metadata": {},
     "output_type": "execute_result"
    }
   ],
   "source": [
    "df.shape"
   ]
  },
  {
   "cell_type": "code",
   "execution_count": 12,
   "id": "7a21055f-8cb9-46d0-98bb-281967f93540",
   "metadata": {},
   "outputs": [],
   "source": [
    "###  Cleaning the Text\n"
   ]
  },
  {
   "cell_type": "code",
   "execution_count": 15,
   "id": "230a1443-7b9b-4691-a234-0fc3f02f6de9",
   "metadata": {},
   "outputs": [
    {
     "name": "stderr",
     "output_type": "stream",
     "text": [
      "[nltk_data] Downloading package stopwords to /home/aakash/nltk_data...\n"
     ]
    },
    {
     "name": "stdout",
     "output_type": "stream",
     "text": [
      "✅ Data cleaned and saved!\n"
     ]
    },
    {
     "name": "stderr",
     "output_type": "stream",
     "text": [
      "[nltk_data]   Unzipping corpora/stopwords.zip.\n"
     ]
    }
   ],
   "source": [
    "import re\n",
    "import nltk\n",
    "import emoji\n",
    "import pandas as pd\n",
    "from nltk.corpus import stopwords\n",
    "\n",
    "# Download stopwords dataset if not already installed\n",
    "nltk.download('stopwords')\n",
    "stop_words = set(stopwords.words('english'))\n",
    "\n",
    "# Function to clean text\n",
    "def clean_text(text):\n",
    "    text = text.lower()  # Convert to lowercase\n",
    "    text = emoji.replace_emoji(text, replace='')  # Remove emojis\n",
    "    text = re.sub(r'http\\S+', '', text)  # Remove URLs\n",
    "    text = re.sub(r'[^a-z\\s]', '', text)  # Remove special characters & numbers\n",
    "    text = ' '.join(word for word in text.split() if word not in stop_words)  # Remove stopwords\n",
    "    return text\n",
    "\n",
    "# Apply cleaning to \"Content\" column\n",
    "df[\"Cleaned_Content\"] = df[\"Content\"].apply(clean_text)\n",
    "\n",
    "# Save cleaned data\n",
    "df.to_csv(\"cleaned_twitter_data.csv\", index=False)\n",
    "\n",
    "print(\"✅ Data cleaned and saved!\")\n"
   ]
  },
  {
   "cell_type": "code",
   "execution_count": null,
   "id": "e1e0b56a-b5b8-49b7-b054-2138befdbbab",
   "metadata": {},
   "outputs": [],
   "source": []
  },
  {
   "cell_type": "code",
   "execution_count": 16,
   "id": "d14a8658-0075-4d04-ac48-f74af84ca05d",
   "metadata": {},
   "outputs": [
    {
     "data": {
      "text/html": [
       "<div>\n",
       "<style scoped>\n",
       "    .dataframe tbody tr th:only-of-type {\n",
       "        vertical-align: middle;\n",
       "    }\n",
       "\n",
       "    .dataframe tbody tr th {\n",
       "        vertical-align: top;\n",
       "    }\n",
       "\n",
       "    .dataframe thead th {\n",
       "        text-align: right;\n",
       "    }\n",
       "</style>\n",
       "<table border=\"1\" class=\"dataframe\">\n",
       "  <thead>\n",
       "    <tr style=\"text-align: right;\">\n",
       "      <th></th>\n",
       "      <th>Post ID</th>\n",
       "      <th>Timestamp</th>\n",
       "      <th>Content</th>\n",
       "      <th>Likes</th>\n",
       "      <th>Replies</th>\n",
       "      <th>Retweets</th>\n",
       "      <th>Cleaned_Content</th>\n",
       "    </tr>\n",
       "  </thead>\n",
       "  <tbody>\n",
       "    <tr>\n",
       "      <th>0</th>\n",
       "      <td>1904554799669932296</td>\n",
       "      <td>2025-03-25 15:23:43+00:00</td>\n",
       "      <td>RT @elonmuskDRY: I’m feeling depressed ￼ and c...</td>\n",
       "      <td>0</td>\n",
       "      <td>0</td>\n",
       "      <td>86</td>\n",
       "      <td>rt elonmuskdry im feeling depressed cant sleep...</td>\n",
       "    </tr>\n",
       "    <tr>\n",
       "      <th>1</th>\n",
       "      <td>1904554776450281855</td>\n",
       "      <td>2025-03-25 15:23:38+00:00</td>\n",
       "      <td>RT @user0000O0: not now sweetie mommy needs to...</td>\n",
       "      <td>0</td>\n",
       "      <td>0</td>\n",
       "      <td>2425</td>\n",
       "      <td>rt usero sweetie mommy needs post suicidal tho...</td>\n",
       "    </tr>\n",
       "    <tr>\n",
       "      <th>2</th>\n",
       "      <td>1904554775091495358</td>\n",
       "      <td>2025-03-25 15:23:37+00:00</td>\n",
       "      <td>I don’t often compliment programs these days b...</td>\n",
       "      <td>0</td>\n",
       "      <td>0</td>\n",
       "      <td>0</td>\n",
       "      <td>dont often compliment programs days normally s...</td>\n",
       "    </tr>\n",
       "    <tr>\n",
       "      <th>3</th>\n",
       "      <td>1904554772369113592</td>\n",
       "      <td>2025-03-25 15:23:37+00:00</td>\n",
       "      <td>RT @praisethesteph: ⚠️ 🇨🇿#Czechia: In Polička,...</td>\n",
       "      <td>0</td>\n",
       "      <td>0</td>\n",
       "      <td>67</td>\n",
       "      <td>rt praisethesteph czechia polika premises stv ...</td>\n",
       "    </tr>\n",
       "    <tr>\n",
       "      <th>4</th>\n",
       "      <td>1904554768283951455</td>\n",
       "      <td>2025-03-25 15:23:36+00:00</td>\n",
       "      <td>RT @PathOfMen_: A man who is disciplined, work...</td>\n",
       "      <td>0</td>\n",
       "      <td>0</td>\n",
       "      <td>109</td>\n",
       "      <td>rt pathofmen man disciplined works goals talks...</td>\n",
       "    </tr>\n",
       "  </tbody>\n",
       "</table>\n",
       "</div>"
      ],
      "text/plain": [
       "               Post ID                 Timestamp  \\\n",
       "0  1904554799669932296 2025-03-25 15:23:43+00:00   \n",
       "1  1904554776450281855 2025-03-25 15:23:38+00:00   \n",
       "2  1904554775091495358 2025-03-25 15:23:37+00:00   \n",
       "3  1904554772369113592 2025-03-25 15:23:37+00:00   \n",
       "4  1904554768283951455 2025-03-25 15:23:36+00:00   \n",
       "\n",
       "                                             Content  Likes  Replies  \\\n",
       "0  RT @elonmuskDRY: I’m feeling depressed ￼ and c...      0        0   \n",
       "1  RT @user0000O0: not now sweetie mommy needs to...      0        0   \n",
       "2  I don’t often compliment programs these days b...      0        0   \n",
       "3  RT @praisethesteph: ⚠️ 🇨🇿#Czechia: In Polička,...      0        0   \n",
       "4  RT @PathOfMen_: A man who is disciplined, work...      0        0   \n",
       "\n",
       "   Retweets                                    Cleaned_Content  \n",
       "0        86  rt elonmuskdry im feeling depressed cant sleep...  \n",
       "1      2425  rt usero sweetie mommy needs post suicidal tho...  \n",
       "2         0  dont often compliment programs days normally s...  \n",
       "3        67  rt praisethesteph czechia polika premises stv ...  \n",
       "4       109  rt pathofmen man disciplined works goals talks...  "
      ]
     },
     "execution_count": 16,
     "metadata": {},
     "output_type": "execute_result"
    }
   ],
   "source": [
    "df.head()"
   ]
  },
  {
   "cell_type": "code",
   "execution_count": null,
   "id": "7037949f-8644-4f16-8c49-9f04da0057da",
   "metadata": {},
   "outputs": [],
   "source": []
  },
  {
   "cell_type": "code",
   "execution_count": 17,
   "id": "0ecacf36-fa60-4b60-aabb-ad37ceb0b8aa",
   "metadata": {},
   "outputs": [],
   "source": [
    "#### Task 2"
   ]
  },
  {
   "cell_type": "code",
   "execution_count": 19,
   "id": "b48bade9-946e-4ef8-b6d8-19f5664a122d",
   "metadata": {},
   "outputs": [],
   "source": [
    "### 🔹 Step 1: Sentiment Analysis (VADER for Twitter)\n"
   ]
  },
  {
   "cell_type": "code",
   "execution_count": 18,
   "id": "33e3a812-019a-4e5b-b932-25c23017fb31",
   "metadata": {},
   "outputs": [
    {
     "name": "stderr",
     "output_type": "stream",
     "text": [
      "[nltk_data] Downloading package vader_lexicon to\n",
      "[nltk_data]     /home/aakash/nltk_data...\n"
     ]
    },
    {
     "name": "stdout",
     "output_type": "stream",
     "text": [
      "Sentiment\n",
      "Negative    52\n",
      "Positive    28\n",
      "Neutral     20\n",
      "Name: count, dtype: int64\n",
      "✅ Sentiment classification done!\n"
     ]
    }
   ],
   "source": [
    "from nltk.sentiment import SentimentIntensityAnalyzer\n",
    "import nltk\n",
    "\n",
    "# Download VADER lexicon\n",
    "nltk.download('vader_lexicon')\n",
    "sia = SentimentIntensityAnalyzer()\n",
    "\n",
    "# Function to classify sentiment\n",
    "def get_sentiment(text):\n",
    "    score = sia.polarity_scores(text)[\"compound\"]\n",
    "    if score > 0.05:\n",
    "        return \"Positive\"\n",
    "    elif score < -0.05:\n",
    "        return \"Negative\"\n",
    "    else:\n",
    "        return \"Neutral\"\n",
    "\n",
    "# Apply sentiment analysis\n",
    "df[\"Sentiment\"] = df[\"Cleaned_Content\"].apply(get_sentiment)\n",
    "\n",
    "# Check sentiment distribution\n",
    "print(df[\"Sentiment\"].value_counts())\n",
    "\n",
    "# Save updated dataset\n",
    "df.to_csv(\"classified_twitter_data.csv\", index=False)\n",
    "print(\"✅ Sentiment classification done!\")\n"
   ]
  },
  {
   "cell_type": "code",
   "execution_count": null,
   "id": "bd160e23-f73a-4402-b499-53e27e3ac4ae",
   "metadata": {},
   "outputs": [],
   "source": []
  },
  {
   "cell_type": "code",
   "execution_count": null,
   "id": "d59ba6db-a482-470b-8466-286f24c3020f",
   "metadata": {},
   "outputs": [],
   "source": []
  },
  {
   "cell_type": "code",
   "execution_count": 20,
   "id": "eb014207-054b-44dc-aa65-2535ab4b71db",
   "metadata": {},
   "outputs": [],
   "source": [
    "## Step 2: Crisis Risk Classification (TF-IDF & Rule-Based Detection)\n"
   ]
  },
  {
   "cell_type": "code",
   "execution_count": null,
   "id": "ab17082f-cf05-4c1b-80d5-5d801f169ebf",
   "metadata": {},
   "outputs": [],
   "source": []
  },
  {
   "cell_type": "code",
   "execution_count": 21,
   "id": "e66c6403-2ba0-4715-8ff3-1c0a093c3c77",
   "metadata": {},
   "outputs": [
    {
     "name": "stdout",
     "output_type": "stream",
     "text": [
      "✅ Crisis risk classification done!\n"
     ]
    }
   ],
   "source": [
    "high_risk_terms = [\n",
    "    \"i don’t want to be here\", \"i want to end it\", \"life is meaningless\", \n",
    "    \"no reason to live\", \"i can’t go on\", \"goodbye everyone\", \"ending it all\"\n",
    "]\n",
    "\n",
    "moderate_risk_terms = [\n",
    "    \"i feel lost\", \"struggling\", \"overwhelmed\", \"i need help\", \"nobody understands\", \n",
    "    \"depressed\", \"can’t cope\", \"feeling empty\"\n",
    "]\n",
    "\n",
    "# Function to classify crisis risk level\n",
    "def classify_risk(text):\n",
    "    text_lower = text.lower()\n",
    "    if any(term in text_lower for term in high_risk_terms):\n",
    "        return \"High-Risk\"\n",
    "    elif any(term in text_lower for term in moderate_risk_terms):\n",
    "        return \"Moderate Concern\"\n",
    "    else:\n",
    "        return \"Low Concern\"\n",
    "\n",
    "# Apply risk classification\n",
    "df[\"Risk_Level\"] = df[\"Cleaned_Content\"].apply(classify_risk)\n",
    "\n",
    "# Save the updated dataset\n",
    "df.to_csv(\"classified_twitter_data.csv\", index=False)\n",
    "print(\"✅ Crisis risk classification done!\")\n"
   ]
  },
  {
   "cell_type": "code",
   "execution_count": null,
   "id": "c83b2681-7315-437a-b667-9a26a8df7169",
   "metadata": {},
   "outputs": [],
   "source": []
  },
  {
   "cell_type": "code",
   "execution_count": 22,
   "id": "0a2baa2d-10b6-44db-9451-666546bbf1f9",
   "metadata": {},
   "outputs": [
    {
     "data": {
      "text/html": [
       "<div>\n",
       "<style scoped>\n",
       "    .dataframe tbody tr th:only-of-type {\n",
       "        vertical-align: middle;\n",
       "    }\n",
       "\n",
       "    .dataframe tbody tr th {\n",
       "        vertical-align: top;\n",
       "    }\n",
       "\n",
       "    .dataframe thead th {\n",
       "        text-align: right;\n",
       "    }\n",
       "</style>\n",
       "<table border=\"1\" class=\"dataframe\">\n",
       "  <thead>\n",
       "    <tr style=\"text-align: right;\">\n",
       "      <th></th>\n",
       "      <th>Post ID</th>\n",
       "      <th>Timestamp</th>\n",
       "      <th>Content</th>\n",
       "      <th>Likes</th>\n",
       "      <th>Replies</th>\n",
       "      <th>Retweets</th>\n",
       "      <th>Cleaned_Content</th>\n",
       "      <th>Sentiment</th>\n",
       "      <th>Risk_Level</th>\n",
       "    </tr>\n",
       "  </thead>\n",
       "  <tbody>\n",
       "    <tr>\n",
       "      <th>0</th>\n",
       "      <td>1904554799669932296</td>\n",
       "      <td>2025-03-25 15:23:43+00:00</td>\n",
       "      <td>RT @elonmuskDRY: I’m feeling depressed ￼ and c...</td>\n",
       "      <td>0</td>\n",
       "      <td>0</td>\n",
       "      <td>86</td>\n",
       "      <td>rt elonmuskdry im feeling depressed cant sleep...</td>\n",
       "      <td>Negative</td>\n",
       "      <td>Moderate Concern</td>\n",
       "    </tr>\n",
       "    <tr>\n",
       "      <th>1</th>\n",
       "      <td>1904554776450281855</td>\n",
       "      <td>2025-03-25 15:23:38+00:00</td>\n",
       "      <td>RT @user0000O0: not now sweetie mommy needs to...</td>\n",
       "      <td>0</td>\n",
       "      <td>0</td>\n",
       "      <td>2425</td>\n",
       "      <td>rt usero sweetie mommy needs post suicidal tho...</td>\n",
       "      <td>Negative</td>\n",
       "      <td>Low Concern</td>\n",
       "    </tr>\n",
       "    <tr>\n",
       "      <th>2</th>\n",
       "      <td>1904554775091495358</td>\n",
       "      <td>2025-03-25 15:23:37+00:00</td>\n",
       "      <td>I don’t often compliment programs these days b...</td>\n",
       "      <td>0</td>\n",
       "      <td>0</td>\n",
       "      <td>0</td>\n",
       "      <td>dont often compliment programs days normally s...</td>\n",
       "      <td>Positive</td>\n",
       "      <td>Moderate Concern</td>\n",
       "    </tr>\n",
       "    <tr>\n",
       "      <th>3</th>\n",
       "      <td>1904554772369113592</td>\n",
       "      <td>2025-03-25 15:23:37+00:00</td>\n",
       "      <td>RT @praisethesteph: ⚠️ 🇨🇿#Czechia: In Polička,...</td>\n",
       "      <td>0</td>\n",
       "      <td>0</td>\n",
       "      <td>67</td>\n",
       "      <td>rt praisethesteph czechia polika premises stv ...</td>\n",
       "      <td>Neutral</td>\n",
       "      <td>Low Concern</td>\n",
       "    </tr>\n",
       "    <tr>\n",
       "      <th>4</th>\n",
       "      <td>1904554768283951455</td>\n",
       "      <td>2025-03-25 15:23:36+00:00</td>\n",
       "      <td>RT @PathOfMen_: A man who is disciplined, work...</td>\n",
       "      <td>0</td>\n",
       "      <td>0</td>\n",
       "      <td>109</td>\n",
       "      <td>rt pathofmen man disciplined works goals talks...</td>\n",
       "      <td>Positive</td>\n",
       "      <td>Moderate Concern</td>\n",
       "    </tr>\n",
       "  </tbody>\n",
       "</table>\n",
       "</div>"
      ],
      "text/plain": [
       "               Post ID                 Timestamp  \\\n",
       "0  1904554799669932296 2025-03-25 15:23:43+00:00   \n",
       "1  1904554776450281855 2025-03-25 15:23:38+00:00   \n",
       "2  1904554775091495358 2025-03-25 15:23:37+00:00   \n",
       "3  1904554772369113592 2025-03-25 15:23:37+00:00   \n",
       "4  1904554768283951455 2025-03-25 15:23:36+00:00   \n",
       "\n",
       "                                             Content  Likes  Replies  \\\n",
       "0  RT @elonmuskDRY: I’m feeling depressed ￼ and c...      0        0   \n",
       "1  RT @user0000O0: not now sweetie mommy needs to...      0        0   \n",
       "2  I don’t often compliment programs these days b...      0        0   \n",
       "3  RT @praisethesteph: ⚠️ 🇨🇿#Czechia: In Polička,...      0        0   \n",
       "4  RT @PathOfMen_: A man who is disciplined, work...      0        0   \n",
       "\n",
       "   Retweets                                    Cleaned_Content Sentiment  \\\n",
       "0        86  rt elonmuskdry im feeling depressed cant sleep...  Negative   \n",
       "1      2425  rt usero sweetie mommy needs post suicidal tho...  Negative   \n",
       "2         0  dont often compliment programs days normally s...  Positive   \n",
       "3        67  rt praisethesteph czechia polika premises stv ...   Neutral   \n",
       "4       109  rt pathofmen man disciplined works goals talks...  Positive   \n",
       "\n",
       "         Risk_Level  \n",
       "0  Moderate Concern  \n",
       "1       Low Concern  \n",
       "2  Moderate Concern  \n",
       "3       Low Concern  \n",
       "4  Moderate Concern  "
      ]
     },
     "execution_count": 22,
     "metadata": {},
     "output_type": "execute_result"
    }
   ],
   "source": [
    "df.head()"
   ]
  },
  {
   "cell_type": "code",
   "execution_count": null,
   "id": "4e951226-f066-4f47-8243-bd38f6d90c57",
   "metadata": {},
   "outputs": [],
   "source": []
  },
  {
   "cell_type": "code",
   "execution_count": 23,
   "id": "f60a237e-3471-4fc0-a493-6e05f41e7984",
   "metadata": {},
   "outputs": [],
   "source": [
    "### 🔹 Step 3: Visualizing Sentiment & Risk Distribution\n"
   ]
  },
  {
   "cell_type": "code",
   "execution_count": null,
   "id": "47fadb98-d9f1-4bd7-94ae-f5045beaa909",
   "metadata": {},
   "outputs": [],
   "source": []
  },
  {
   "cell_type": "code",
   "execution_count": 26,
   "id": "85e9a738-ada9-4c8c-bc8d-2e44a42ba7e4",
   "metadata": {},
   "outputs": [
    {
     "name": "stderr",
     "output_type": "stream",
     "text": [
      "/tmp/ipykernel_22840/3684376403.py:9: FutureWarning: \n",
      "\n",
      "Passing `palette` without assigning `hue` is deprecated and will be removed in v0.14.0. Assign the `x` variable to `hue` and set `legend=False` for the same effect.\n",
      "\n",
      "  sns.countplot(x=df[\"Sentiment\"], palette=\"coolwarm\")\n"
     ]
    },
    {
     "data": {
      "image/png": "[encoded data removed]",
      "text/plain": [
       "<Figure size 800x400 with 1 Axes>"
      ]
     },
     "metadata": {},
     "output_type": "display_data"
    },
    {
     "name": "stderr",
     "output_type": "stream",
     "text": [
      "/tmp/ipykernel_22840/3684376403.py:15: FutureWarning: \n",
      "\n",
      "Passing `palette` without assigning `hue` is deprecated and will be removed in v0.14.0. Assign the `x` variable to `hue` and set `legend=False` for the same effect.\n",
      "\n",
      "  sns.countplot(x=df[\"Risk_Level\"], palette=\"Reds\")\n"
     ]
    },
    {
     "data": {
      "image/png": "[encoded data removed]",
      "text/plain": [
       "<Figure size 800x400 with 1 Axes>"
      ]
     },
     "metadata": {},
     "output_type": "display_data"
    }
   ],
   "source": [
    "import matplotlib.pyplot as plt\n",
    "import seaborn as sns\n",
    "\n",
    "# Set style\n",
    "sns.set_style(\"darkgrid\")\n",
    "\n",
    "# Plot sentiment distribution\n",
    "plt.figure(figsize=(8, 4))\n",
    "sns.countplot(x=df[\"Sentiment\"], palette=\"coolwarm\")\n",
    "plt.title(\"Sentiment Analysis Distribution\")\n",
    "plt.show()\n",
    "\n",
    "# Plot risk level distribution\n",
    "plt.figure(figsize=(8, 4))\n",
    "sns.countplot(x=df[\"Risk_Level\"], palette=\"Reds\")\n",
    "plt.title(\"Crisis Risk Classification Distribution\")\n",
    "plt.show()\n"
   ]
  },
  {
   "cell_type": "code",
   "execution_count": null,
   "id": "a048bf0a-b540-4cec-b710-52fc15b2948c",
   "metadata": {},
   "outputs": [],
   "source": []
  },
  {
   "cell_type": "code",
   "execution_count": null,
   "id": "776b03a8-3587-4311-971f-37dd25811d5c",
   "metadata": {},
   "outputs": [],
   "source": []
  },
  {
   "cell_type": "code",
   "execution_count": 27,
   "id": "d63e1bb5-a94f-4cc0-b461-3e29cd412d10",
   "metadata": {},
   "outputs": [],
   "source": [
    "####### Task 3"
   ]
  },
  {
   "cell_type": "code",
   "execution_count": null,
   "id": "eade2aa5-2080-4057-b700-91c7da13f9ee",
   "metadata": {},
   "outputs": [],
   "source": []
  },
  {
   "cell_type": "code",
   "execution_count": 28,
   "id": "01f6e0ee-fe2c-449b-8381-0b1feee225b3",
   "metadata": {},
   "outputs": [],
   "source": [
    "# Step 1: Extracting Location Data\n",
    "##"
   ]
  },
  {
   "cell_type": "code",
   "execution_count": 29,
   "id": "12615738-44e9-41b3-b7c6-a6864df965e1",
   "metadata": {
    "collapsed": true,
    "jupyter": {
     "outputs_hidden": true
    },
    "scrolled": true
   },
   "outputs": [
    {
     "ename": "KeyError",
     "evalue": "'Location'",
     "output_type": "error",
     "traceback": [
      "\u001b[0;31m---------------------------------------------------------------------------\u001b[0m",
      "\u001b[0;31mKeyError\u001b[0m                                  Traceback (most recent call last)",
      "File \u001b[0;32m~/miniconda3/envs/env1/lib/python3.12/site-packages/pandas/core/indexes/base.py:3805\u001b[0m, in \u001b[0;36mIndex.get_loc\u001b[0;34m(self, key)\u001b[0m\n\u001b[1;32m   3804\u001b[0m \u001b[38;5;28;01mtry\u001b[39;00m:\n\u001b[0;32m-> 3805\u001b[0m     \u001b[38;5;28;01mreturn\u001b[39;00m \u001b[38;5;28mself\u001b[39m\u001b[38;5;241m.\u001b[39m_engine\u001b[38;5;241m.\u001b[39mget_loc(casted_key)\n\u001b[1;32m   3806\u001b[0m \u001b[38;5;28;01mexcept\u001b[39;00m \u001b[38;5;167;01mKeyError\u001b[39;00m \u001b[38;5;28;01mas\u001b[39;00m err:\n",
      "File \u001b[0;32mindex.pyx:167\u001b[0m, in \u001b[0;36mpandas._libs.index.IndexEngine.get_loc\u001b[0;34m()\u001b[0m\n",
      "File \u001b[0;32mindex.pyx:196\u001b[0m, in \u001b[0;36mpandas._libs.index.IndexEngine.get_loc\u001b[0;34m()\u001b[0m\n",
      "File \u001b[0;32mpandas/_libs/hashtable_class_helper.pxi:7081\u001b[0m, in \u001b[0;36mpandas._libs.hashtable.PyObjectHashTable.get_item\u001b[0;34m()\u001b[0m\n",
      "File \u001b[0;32mpandas/_libs/hashtable_class_helper.pxi:7089\u001b[0m, in \u001b[0;36mpandas._libs.hashtable.PyObjectHashTable.get_item\u001b[0;34m()\u001b[0m\n",
      "\u001b[0;31mKeyError\u001b[0m: 'Location'",
      "\nThe above exception was the direct cause of the following exception:\n",
      "\u001b[0;31mKeyError\u001b[0m                                  Traceback (most recent call last)",
      "Cell \u001b[0;32mIn[29], line 2\u001b[0m\n\u001b[1;32m      1\u001b[0m \u001b[38;5;66;03m# Check available location data\u001b[39;00m\n\u001b[0;32m----> 2\u001b[0m \u001b[38;5;28mprint\u001b[39m(df[\u001b[38;5;124m\"\u001b[39m\u001b[38;5;124mLocation\u001b[39m\u001b[38;5;124m\"\u001b[39m]\u001b[38;5;241m.\u001b[39mvalue_counts()\u001b[38;5;241m.\u001b[39mhead(\u001b[38;5;241m10\u001b[39m))\n",
      "File \u001b[0;32m~/miniconda3/envs/env1/lib/python3.12/site-packages/pandas/core/frame.py:4102\u001b[0m, in \u001b[0;36mDataFrame.__getitem__\u001b[0;34m(self, key)\u001b[0m\n\u001b[1;32m   4100\u001b[0m \u001b[38;5;28;01mif\u001b[39;00m \u001b[38;5;28mself\u001b[39m\u001b[38;5;241m.\u001b[39mcolumns\u001b[38;5;241m.\u001b[39mnlevels \u001b[38;5;241m>\u001b[39m \u001b[38;5;241m1\u001b[39m:\n\u001b[1;32m   4101\u001b[0m     \u001b[38;5;28;01mreturn\u001b[39;00m \u001b[38;5;28mself\u001b[39m\u001b[38;5;241m.\u001b[39m_getitem_multilevel(key)\n\u001b[0;32m-> 4102\u001b[0m indexer \u001b[38;5;241m=\u001b[39m \u001b[38;5;28mself\u001b[39m\u001b[38;5;241m.\u001b[39mcolumns\u001b[38;5;241m.\u001b[39mget_loc(key)\n\u001b[1;32m   4103\u001b[0m \u001b[38;5;28;01mif\u001b[39;00m is_integer(indexer):\n\u001b[1;32m   4104\u001b[0m     indexer \u001b[38;5;241m=\u001b[39m [indexer]\n",
      "File \u001b[0;32m~/miniconda3/envs/env1/lib/python3.12/site-packages/pandas/core/indexes/base.py:3812\u001b[0m, in \u001b[0;36mIndex.get_loc\u001b[0;34m(self, key)\u001b[0m\n\u001b[1;32m   3807\u001b[0m     \u001b[38;5;28;01mif\u001b[39;00m \u001b[38;5;28misinstance\u001b[39m(casted_key, \u001b[38;5;28mslice\u001b[39m) \u001b[38;5;129;01mor\u001b[39;00m (\n\u001b[1;32m   3808\u001b[0m         \u001b[38;5;28misinstance\u001b[39m(casted_key, abc\u001b[38;5;241m.\u001b[39mIterable)\n\u001b[1;32m   3809\u001b[0m         \u001b[38;5;129;01mand\u001b[39;00m \u001b[38;5;28many\u001b[39m(\u001b[38;5;28misinstance\u001b[39m(x, \u001b[38;5;28mslice\u001b[39m) \u001b[38;5;28;01mfor\u001b[39;00m x \u001b[38;5;129;01min\u001b[39;00m casted_key)\n\u001b[1;32m   3810\u001b[0m     ):\n\u001b[1;32m   3811\u001b[0m         \u001b[38;5;28;01mraise\u001b[39;00m InvalidIndexError(key)\n\u001b[0;32m-> 3812\u001b[0m     \u001b[38;5;28;01mraise\u001b[39;00m \u001b[38;5;167;01mKeyError\u001b[39;00m(key) \u001b[38;5;28;01mfrom\u001b[39;00m \u001b[38;5;21;01merr\u001b[39;00m\n\u001b[1;32m   3813\u001b[0m \u001b[38;5;28;01mexcept\u001b[39;00m \u001b[38;5;167;01mTypeError\u001b[39;00m:\n\u001b[1;32m   3814\u001b[0m     \u001b[38;5;66;03m# If we have a listlike key, _check_indexing_error will raise\u001b[39;00m\n\u001b[1;32m   3815\u001b[0m     \u001b[38;5;66;03m#  InvalidIndexError. Otherwise we fall through and re-raise\u001b[39;00m\n\u001b[1;32m   3816\u001b[0m     \u001b[38;5;66;03m#  the TypeError.\u001b[39;00m\n\u001b[1;32m   3817\u001b[0m     \u001b[38;5;28mself\u001b[39m\u001b[38;5;241m.\u001b[39m_check_indexing_error(key)\n",
      "\u001b[0;31mKeyError\u001b[0m: 'Location'"
     ]
    }
   ],
   "source": [
    "# Check available location data\n",
    "print(df[\"Location\"].value_counts().head(10))  # View top locations\n"
   ]
  },
  {
   "cell_type": "code",
   "execution_count": null,
   "id": "64614a76-54c0-435d-a6eb-31a7aa9c7fd7",
   "metadata": {},
   "outputs": [],
   "source": []
  },
  {
   "cell_type": "code",
   "execution_count": 30,
   "id": "b06ccdbb-b4c4-460c-8e7f-711dd1442905",
   "metadata": {},
   "outputs": [],
   "source": [
    "###📌 Extract Locations from Post Text\n"
   ]
  },
  {
   "cell_type": "code",
   "execution_count": 31,
   "id": "97a573aa-65af-43d5-bde7-6bf9470bf248",
   "metadata": {},
   "outputs": [
    {
     "name": "stdout",
     "output_type": "stream",
     "text": [
      "Extracted_Location\n",
      "virginia    3\n",
      "liberak     3\n",
      "lumala      1\n",
      "sia         1\n",
      "gaza        1\n",
      "Name: count, dtype: int64\n"
     ]
    }
   ],
   "source": [
    "import spacy\n",
    "\n",
    "# Load English NLP model\n",
    "nlp = spacy.load(\"en_core_web_sm\")\n",
    "\n",
    "# Function to extract locations\n",
    "def extract_location(text):\n",
    "    doc = nlp(text)\n",
    "    for ent in doc.ents:\n",
    "        if ent.label_ == \"GPE\":  # GPE = Geo-Political Entity (cities, countries, etc.)\n",
    "            return ent.text\n",
    "    return None  # No location found\n",
    "\n",
    "# Apply location extraction\n",
    "df[\"Extracted_Location\"] = df[\"Cleaned_Content\"].apply(extract_location)\n",
    "\n",
    "# View extracted locations\n",
    "print(df[\"Extracted_Location\"].value_counts().head(10))\n"
   ]
  },
  {
   "cell_type": "code",
   "execution_count": null,
   "id": "65d6be2b-24f5-4541-b189-a62ac443f995",
   "metadata": {},
   "outputs": [],
   "source": []
  },
  {
   "cell_type": "code",
   "execution_count": 32,
   "id": "bd101f02-7a14-4ddf-8d1f-b22822e2a6f5",
   "metadata": {},
   "outputs": [],
   "source": [
    "## Step 2: Geocoding (Convert Locations to Lat/Lon)"
   ]
  },
  {
   "cell_type": "code",
   "execution_count": 33,
   "id": "0309a823-2166-4b37-8b27-c8aecf326c35",
   "metadata": {},
   "outputs": [
    {
     "name": "stdout",
     "output_type": "stream",
     "text": [
      "✅ Geolocation completed!\n"
     ]
    }
   ],
   "source": [
    "from geopy.geocoders import Nominatim\n",
    "import time\n",
    "\n",
    "geolocator = Nominatim(user_agent=\"geo_locator\")\n",
    "\n",
    "# Function to get latitude & longitude\n",
    "def get_coordinates(location):\n",
    "    if pd.isna(location):\n",
    "        return None, None\n",
    "    try:\n",
    "        time.sleep(1)  # To avoid API rate limits\n",
    "        loc = geolocator.geocode(location)\n",
    "        if loc:\n",
    "            return loc.latitude, loc.longitude\n",
    "    except:\n",
    "        return None, None\n",
    "    return None, None\n",
    "\n",
    "# Apply geocoding\n",
    "df[[\"Latitude\", \"Longitude\"]] = df[\"Extracted_Location\"].apply(lambda x: pd.Series(get_coordinates(x)))\n",
    "\n",
    "# Remove rows where coordinates are missing\n",
    "df = df.dropna(subset=[\"Latitude\", \"Longitude\"])\n",
    "\n",
    "# Save the geocoded dataset\n",
    "df.to_csv(\"geocoded_twitter_data.csv\", index=False)\n",
    "print(\"✅ Geolocation completed!\")\n"
   ]
  },
  {
   "cell_type": "code",
   "execution_count": null,
   "id": "577415d4-bade-427d-a99a-5276450944ca",
   "metadata": {},
   "outputs": [],
   "source": []
  },
  {
   "cell_type": "code",
   "execution_count": 34,
   "id": "a18f080a-a2ac-4295-9088-b719535f6c2c",
   "metadata": {},
   "outputs": [],
   "source": [
    "### 🔹 Step 3: Creating a Crisis Heatmap\n"
   ]
  },
  {
   "cell_type": "code",
   "execution_count": null,
   "id": "3fcc372a-4d93-4d8c-a915-35ca1b6169e5",
   "metadata": {},
   "outputs": [],
   "source": [
    "## generate heatmap"
   ]
  },
  {
   "cell_type": "code",
   "execution_count": 35,
   "id": "a7e528b1-9662-46af-b3a3-c4e612d4fa00",
   "metadata": {},
   "outputs": [
    {
     "name": "stdout",
     "output_type": "stream",
     "text": [
      "✅ Heatmap generated! Open 'crisis_heatmap.html' to view.\n"
     ]
    }
   ],
   "source": [
    "import folium\n",
    "from folium.plugins import HeatMap\n",
    "\n",
    "# Initialize map centered at an approximate location\n",
    "m = folium.Map(location=[20, 0], zoom_start=2)  # World view\n",
    "\n",
    "# Add heatmap layer\n",
    "heat_data = df[[\"Latitude\", \"Longitude\"]].values.tolist()\n",
    "HeatMap(heat_data).add_to(m)\n",
    "\n",
    "# Save and display map\n",
    "m.save(\"crisis_heatmap.html\")\n",
    "print(\"✅ Heatmap generated! Open 'crisis_heatmap.html' to view.\")\n"
   ]
  },
  {
   "cell_type": "code",
   "execution_count": null,
   "id": "15d0d2d9-cdd7-423d-8105-03dc327fe7f6",
   "metadata": {},
   "outputs": [],
   "source": []
  },
  {
   "cell_type": "code",
   "execution_count": null,
   "id": "5025668a-57b6-4d15-9210-d1613378af66",
   "metadata": {},
   "outputs": [],
   "source": []
  },
  {
   "cell_type": "code",
   "execution_count": 36,
   "id": "c971b50d-198a-4682-a353-d12d9e34e074",
   "metadata": {},
   "outputs": [],
   "source": [
    "## 🔹 Step 4: Finding Top 5 Crisis Locations\n",
    "\n"
   ]
  },
  {
   "cell_type": "code",
   "execution_count": 37,
   "id": "c261e5d5-f16f-4dee-be24-3f0a3fc509a1",
   "metadata": {},
   "outputs": [
    {
     "name": "stdout",
     "output_type": "stream",
     "text": [
      "Extracted_Location\n",
      "virginia    3\n",
      "lumala      1\n",
      "sia         1\n",
      "gaza        1\n",
      "Name: count, dtype: int64\n"
     ]
    }
   ],
   "source": [
    "# Count top locations\n",
    "top_locations = df[\"Extracted_Location\"].value_counts().head(5)\n",
    "print(top_locations)\n"
   ]
  },
  {
   "cell_type": "code",
   "execution_count": null,
   "id": "456a9c93-1286-46b1-9c0d-8468b8e8f382",
   "metadata": {},
   "outputs": [],
   "source": []
  },
  {
   "cell_type": "code",
   "execution_count": null,
   "id": "f171cf40-2bec-4acf-90f5-f238955d2e0c",
   "metadata": {},
   "outputs": [],
   "source": []
  },
  {
   "cell_type": "code",
   "execution_count": null,
   "id": "53e49723-ec47-4a86-ab76-54ac2f979e3f",
   "metadata": {},
   "outputs": [],
   "source": []
  },
  {
   "cell_type": "code",
   "execution_count": null,
   "id": "2fe6ecc0-9e89-4536-898c-26c4685c7ace",
   "metadata": {},
   "outputs": [],
   "source": []
  },
  {
   "cell_type": "code",
   "execution_count": null,
   "id": "8b7f5f4a-88c1-4861-89b2-3b6b7914edb3",
   "metadata": {},
   "outputs": [],
   "source": []
  },
  {
   "cell_type": "code",
   "execution_count": null,
   "id": "5247860f-f34f-4451-86aa-2d00a15aa821",
   "metadata": {},
   "outputs": [],
   "source": []
  },
  {
   "cell_type": "code",
   "execution_count": null,
   "id": "ae9a80e1-d724-413d-87ae-798309fa1727",
   "metadata": {},
   "outputs": [],
   "source": []
  },
  {
   "cell_type": "code",
   "execution_count": null,
   "id": "c3de2cfc-b1b0-4214-af80-ecd87000acf9",
   "metadata": {},
   "outputs": [],
   "source": []
  }
 ],
 "metadata": {
  "kernelspec": {
   "display_name": "Python 3 (ipykernel)",
   "language": "python",
   "name": "python3"
  },
  "language_info": {
   "codemirror_mode": {
    "name": "ipython",
    "version": 3
   },
   "file_extension": ".py",
   "mimetype": "text/x-python",
   "name": "python",
   "nbconvert_exporter": "python",
   "pygments_lexer": "ipython3",
   "version": "3.12.8"
  }
 },
 "nbformat": 4,
 "nbformat_minor": 5
}
