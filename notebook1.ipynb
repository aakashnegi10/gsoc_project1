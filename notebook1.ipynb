{
 "cells": [
  {
   "cell_type": "markdown",
   "id": "91019a15-64a1-402b-944e-a76083360616",
   "metadata": {
    "jp-MarkdownHeadingCollapsed": true
   },
   "source": [
    "### Working on GSOC"
   ]
  },
  {
   "cell_type": "markdown",
   "id": "d1219d12-810a-44cc-a66b-2b2db94c6063",
   "metadata": {},
   "source": [
    "## Task 1: Social Media Data Extraction & Preprocessing (API Handling & Text Cleaning)\n"
   ]
  },
  {
   "cell_type": "code",
   "execution_count": null,
   "id": "854f611e-e866-462c-8777-e3583ba7da40",
   "metadata": {
    "jupyter": {
     "source_hidden": true
    }
   },
   "outputs": [],
   "source": [
    "#Importing the required libraries\n",
    "\n",
    "import pandas as pd\n",
    "import tweepy\n",
    "import time"
   ]
  },
  {
   "cell_type": "code",
   "execution_count": null,
   "id": "f8f4584f-f3ff-449e-8ceb-47b789914099",
   "metadata": {
    "jupyter": {
     "source_hidden": true
    }
   },
   "outputs": [],
   "source": [
    "### My keys\n",
    "\n",
    "API_KEY = \"MQl6JqRK2YTb1AQg1leAiu6ET\"\n",
    "API_SECRET = \"GSq3rZN0d86zkBDx6s8JkI5ZkAIaHJ5897hlwluy4ibbLNLlcM\"\n",
    "BEARER_TOKEN = \"AAAAAAAAAAAAAAAAAAAAAGRZZgEAAAAASCZ1Mw9xjXI6cyc7RMI9Lvurv%2FY%3DOtmBNmZk8Qgw1NaQ2wXtGfkICUU1Ng7mhbPDscuiqGiqdPEU3z\"\n"
   ]
  },
  {
   "cell_type": "code",
   "execution_count": null,
   "id": "38fb45fc-1626-4f5a-9b47-f413e5ac06f8",
   "metadata": {
    "jupyter": {
     "source_hidden": true
    }
   },
   "outputs": [],
   "source": [
    "### making a test request to verify authentication\n",
    "\n",
    "import tweepy\n",
    "\n",
    "bearer_token = BEARER_TOKEN\n",
    "\n",
    "client = tweepy.Client(bearer_token=bearer_token)\n",
    "\n",
    "try:\n",
    "    client.get_user(username=\"TwitterDev\")  # Test request\n",
    "    print(\"API Authentication Successful\")\n",
    "except Exception as e:\n",
    "    print(f\" Authentication Failed: {e}\")\n"
   ]
  },
  {
   "cell_type": "code",
   "execution_count": null,
   "id": "9325f4ac-c7d4-4248-abdc-3d421a94915f",
   "metadata": {
    "jupyter": {
     "source_hidden": true
    }
   },
   "outputs": [],
   "source": [
    "### Authenticate with Twitter API\n",
    "\n",
    "client = tweepy.Client(bearer_token=BEARER_TOKEN)"
   ]
  },
  {
   "cell_type": "code",
   "execution_count": null,
   "id": "0ec3a1e5-ca4b-4862-9313-4a13767354bc",
   "metadata": {
    "jupyter": {
     "source_hidden": true
    }
   },
   "outputs": [],
   "source": [
    "### some widely recognized terms in mental health discussions\n",
    "\n",
    "keywords = [\n",
    "    \"depression\",\n",
    "    \"anxiety disorder\",\n",
    "    \"bipolar disorder\",\n",
    "    \"post-traumatic stress disorder\",\n",
    "    \"obsessive-compulsive disorder\",\n",
    "    \"schizophrenia\",\n",
    "    \"eating disorder\",\n",
    "    \"substance use disorder\",\n",
    "    \"self-harm\",\n",
    "    \"suicidal ideation\"\n",
    "]\n"
   ]
  },
  {
   "cell_type": "code",
   "execution_count": null,
   "id": "ee38d320-0f20-47f4-a8c1-43d0f5721f74",
   "metadata": {
    "jupyter": {
     "source_hidden": true
    }
   },
   "outputs": [],
   "source": [
    "### Constructing the Search Query\n",
    "\n",
    "query = \" OR \".join(keywords) + \" -is:retweet lang:en\""
   ]
  },
  {
   "cell_type": "code",
   "execution_count": null,
   "id": "01ab048a-b58b-45a5-86de-6fac4c48fcd1",
   "metadata": {
    "jupyter": {
     "source_hidden": true
    }
   },
   "outputs": [],
   "source": [
    "### Retry logic for handling rate limits or temporary failures\n",
    "\n",
    "max_retries = 5  # Number of retry attempts\n",
    "retry_delay = 15  # Initial delay in seconds\n",
    "\n",
    "for attempt in range(max_retries):\n",
    "    try:\n",
    "        # Fetch tweets (max 100 per request)\n",
    "        tweets = client.search_recent_tweets(\n",
    "            query=query,\n",
    "            tweet_fields=[\"id\", \"text\", \"created_at\", \"public_metrics\"],\n",
    "            max_results=100\n",
    "        )\n",
    "        break  # If successful, exit loop\n",
    "\n",
    "    except tweepy.TooManyRequests:  # Handle rate limits\n",
    "        print(f\"Rate limit exceeded. Retrying in {retry_delay} seconds...\")\n",
    "        time.sleep(retry_delay)\n",
    "        retry_delay *= 2  # Exponential backoff\n",
    "\n",
    "    except tweepy.TweepyException as e:  # Catch general Tweepy errors\n",
    "        print(f\"Error: {e}\")\n",
    "        time.sleep(retry_delay)\n"
   ]
  },
  {
   "cell_type": "code",
   "execution_count": null,
   "id": "20ab319d-9f1f-4a5d-9248-28d2a8a31bd1",
   "metadata": {
    "jupyter": {
     "source_hidden": true
    }
   },
   "outputs": [],
   "source": [
    "# Store extracted data\n",
    "data = []\n",
    "for tweet in tweets.data:\n",
    "    data.append({\n",
    "        \"Post ID\": tweet.id,\n",
    "        \"Timestamp\": tweet.created_at,\n",
    "        \"Content\": tweet.text,\n",
    "        \"Likes\": tweet.public_metrics[\"like_count\"],\n",
    "        \"Replies\": tweet.public_metrics[\"reply_count\"],\n",
    "        \"Retweets\": tweet.public_metrics[\"retweet_count\"]\n",
    "    })\n"
   ]
  },
  {
   "cell_type": "code",
   "execution_count": null,
   "id": "1810f71b-ed22-48bd-883d-6d30e5c07ee5",
   "metadata": {},
   "outputs": [],
   "source": []
  },
  {
   "cell_type": "markdown",
   "id": "610d3301-936d-47c0-a004-e1f5ec780a88",
   "metadata": {},
   "source": [
    "### was getting requests issues, hence shifted to reddit API"
   ]
  },
  {
   "cell_type": "code",
   "execution_count": null,
   "id": "7482c7f5-3b30-446e-9bc1-f698ed74c356",
   "metadata": {},
   "outputs": [],
   "source": []
  },
  {
   "cell_type": "code",
   "execution_count": null,
   "id": "bb335efb-1960-4b02-878a-7b6cbe87c707",
   "metadata": {},
   "outputs": [],
   "source": []
  },
  {
   "cell_type": "code",
   "execution_count": 17,
   "id": "d217c9e1-00d5-4306-882c-e6368176118d",
   "metadata": {},
   "outputs": [
    {
     "name": "stderr",
     "output_type": "stream",
     "text": [
      "[nltk_data] Downloading package stopwords to /home/aakash/nltk_data...\n",
      "[nltk_data]   Package stopwords is already up-to-date!\n"
     ]
    }
   ],
   "source": [
    "### Reddit Data Extraction\n",
    "\n",
    "import praw\n",
    "import pandas as pd\n",
    "import re\n",
    "import nltk\n",
    "from nltk.corpus import stopwords\n",
    "import emoji\n",
    "import os\n",
    "\n",
    "import nltk\n",
    "from nltk.stem import WordNetLemmatizer\n",
    "from nltk.tokenize import word_tokenize\n",
    "\n",
    "from datetime import datetime\n",
    "\n",
    "# Ensure stopwords are downloaded\n",
    "nltk.download('stopwords')\n",
    "stop_words = set(stopwords.words('english'))\n",
    "\n"
   ]
  },
  {
   "cell_type": "code",
   "execution_count": 18,
   "id": "81616de2-cdc4-4ba6-99c5-251ee48eb7a4",
   "metadata": {},
   "outputs": [],
   "source": [
    "# Initialize Reddit API connection\n",
    "\n",
    "user_agent= \"user_agent\"  #no space\n",
    "\n",
    "reddit = praw.Reddit(\n",
    "    client_id=\"-ggPSBpmj6tuwdfm-Av6vQ\",\n",
    "    client_secret=\"hP__xX396bg68yxyS9GzsCogUywMUQ\",\n",
    "    user_agent=user_agent\n",
    ")\n"
   ]
  },
  {
   "cell_type": "code",
   "execution_count": 19,
   "id": "185a8e2a-5e79-4702-9545-ef82887c3318",
   "metadata": {},
   "outputs": [],
   "source": [
    "### some widely recognized terms in mental health discussions\n",
    "\n",
    "keywords = [\n",
    "    \"depression\",\n",
    "    \"anxiety disorder\",\n",
    "    \"bipolar disorder\",\n",
    "    \"post-traumatic stress disorder\",\n",
    "    \"obsessive-compulsive disorder\",\n",
    "    \"schizophrenia\",\n",
    "    \"eating disorder\",\n",
    "    \"substance use disorder\",\n",
    "    \"self-harm\",\n",
    "    \"suicidal ideation\"\n",
    "]\n"
   ]
  },
  {
   "cell_type": "code",
   "execution_count": 20,
   "id": "52d35b47-8190-4ac3-b86a-558c425ab7a9",
   "metadata": {},
   "outputs": [],
   "source": [
    "# List of subreddits to extract from\n",
    "subreddit_name = [\n",
    "    \"mentalhealth\", \"depression\", \"addiction\", \"SuicideWatch\",\n",
    "    \"traumatoolbox\", \"socialanxiety\", \"Anger\", \"offmychest\", \n",
    "    \"bodyacceptance\", \"mentalhealthmemes\", \n",
    "    \"nosurf\", \"mentalhealth\"\n",
    "]\n"
   ]
  },
  {
   "cell_type": "code",
   "execution_count": 21,
   "id": "4f47a3d7-4fad-44f8-bf4b-d682c372cc86",
   "metadata": {},
   "outputs": [],
   "source": [
    "import requests\n",
    "\n",
    "def is_subreddit_accessible(subreddit_name):\n",
    "    url = f\"https://www.reddit.com/r/{subreddit_name}/about.json\"\n",
    "    headers = {\"User-Agent\": \"your_user_agent\"}\n",
    "    response = requests.get(url, headers=headers)\n",
    "\n",
    "    if response.status_code == 200:\n",
    "        return True  # ✅ Subreddit is accessible\n",
    "    else:\n",
    "        print(f\"❌ Subreddit r/{subreddit_name} is private, banned, or doesn't exist.\")\n",
    "        return False  # ❌ Remove this subreddit from the list\n",
    "\n"
   ]
  },
  {
   "cell_type": "code",
   "execution_count": 22,
   "id": "1c601bad-3a54-4055-be42-8e1ac9bb5c51",
   "metadata": {},
   "outputs": [
    {
     "name": "stdout",
     "output_type": "stream",
     "text": [
      "❌ Subreddit r/mentalhealthmemes is private, banned, or doesn't exist.\n",
      "✅ Valid subreddits: ['mentalhealth', 'depression', 'addiction', 'SuicideWatch', 'traumatoolbox', 'socialanxiety', 'Anger', 'offmychest', 'bodyacceptance', 'nosurf', 'mentalhealth']\n"
     ]
    }
   ],
   "source": [
    "# ✅ Filter only accessible subreddits\n",
    "\n",
    "\n",
    "valid_subreddits = [sub for sub in subreddit_name if is_subreddit_accessible(sub)]\n",
    "print(f\"✅ Valid subreddits: {valid_subreddits}\")"
   ]
  },
  {
   "cell_type": "code",
   "execution_count": 23,
   "id": "fe4ee29a-8821-472b-a769-1166d619ecac",
   "metadata": {},
   "outputs": [],
   "source": [
    "# 🔹 Load stopwords\n",
    "stop_words = set(stopwords.words('english'))\n",
    "\n",
    "# 🔹 Initialize lemmatizer\n",
    "lemmatizer = WordNetLemmatizer()\n",
    "\n",
    "# 🔹 Function to clean text\n",
    "def clean_text(text):\n",
    "    if pd.isna(text):  # Handle NaN values\n",
    "        return \"\"\n",
    "    \n",
    "    text = text.lower()  # Convert to lowercase\n",
    "    text = re.sub(r'[^a-z\\s]', '', text)  # Remove special characters\n",
    "    tokens = word_tokenize(text)  # Tokenize text\n",
    "    tokens = [word for word in tokens if word not in stop_words]  # Remove stopwords\n",
    "    tokens = [lemmatizer.lemmatize(word) for word in tokens]  # Apply lemmatization\n",
    "    \n",
    "    return ' '.join(tokens)"
   ]
  },
  {
   "cell_type": "code",
   "execution_count": 29,
   "id": "6d150d02-c28f-40eb-a753-0d13e3423739",
   "metadata": {},
   "outputs": [],
   "source": [
    "def get_reddit_posts(valid_subreddits, limit=100):\n",
    "    all_posts = []\n",
    "    \n",
    "    for subreddit_name in valid_subreddits:\n",
    "        print(f\"🔹 Fetching posts from r/{subreddit_name}...\")\n",
    "        subreddit = reddit.subreddit(subreddit_name)\n",
    "        \n",
    "        for post in subreddit.hot(limit=limit):  # Fetch top 'hot' posts\n",
    "            if any(keyword in post.title.lower() or keyword in post.selftext.lower() for keyword in keywords):\n",
    "                all_posts.append({\n",
    "                    \"subreddit\": subreddit_name,  # ✅ Store the subreddit name\n",
    "                    \"post_id\": post.id,\n",
    "                    \"timestamp\": datetime.utcfromtimestamp(post.created_utc).strftime('%Y-%m-%d %H:%M:%S'),\n",
    "                    \"content\": clean_text(post.title + ' ' + post.selftext),\n",
    "                    \"upvotes\": post.score,\n",
    "                    \"comments\": post.num_comments,\n",
    "                    \"shares\": post.num_crossposts\n",
    "                })\n",
    "    \n",
    "    return all_posts\n"
   ]
  },
  {
   "cell_type": "code",
   "execution_count": null,
   "id": "d083b2df-3273-4b73-9665-4a0a338a72cc",
   "metadata": {},
   "outputs": [],
   "source": []
  },
  {
   "cell_type": "code",
   "execution_count": 30,
   "id": "896056dd-8f99-4205-9e08-11f7cdb76827",
   "metadata": {},
   "outputs": [
    {
     "name": "stdout",
     "output_type": "stream",
     "text": [
      "🔹 Fetching posts from r/mentalhealth...\n"
     ]
    },
    {
     "name": "stderr",
     "output_type": "stream",
     "text": [
      "/tmp/ipykernel_33549/421323477.py:13: DeprecationWarning: datetime.datetime.utcfromtimestamp() is deprecated and scheduled for removal in a future version. Use timezone-aware objects to represent datetimes in UTC: datetime.datetime.fromtimestamp(timestamp, datetime.UTC).\n",
      "  \"timestamp\": datetime.utcfromtimestamp(post.created_utc).strftime('%Y-%m-%d %H:%M:%S'),\n"
     ]
    },
    {
     "name": "stdout",
     "output_type": "stream",
     "text": [
      "🔹 Fetching posts from r/depression...\n",
      "🔹 Fetching posts from r/addiction...\n",
      "🔹 Fetching posts from r/SuicideWatch...\n",
      "🔹 Fetching posts from r/traumatoolbox...\n",
      "🔹 Fetching posts from r/socialanxiety...\n",
      "🔹 Fetching posts from r/Anger...\n",
      "🔹 Fetching posts from r/offmychest...\n",
      "🔹 Fetching posts from r/bodyacceptance...\n",
      "🔹 Fetching posts from r/nosurf...\n",
      "🔹 Fetching posts from r/mentalhealth...\n",
      "✅ Collected 211 posts.\n"
     ]
    }
   ],
   "source": [
    "# Fetch posts\n",
    "posts_data = get_reddit_posts(valid_subreddits, limit=200)\n",
    "print(f\"✅ Collected {len(posts_data)} posts.\")\n"
   ]
  },
  {
   "cell_type": "code",
   "execution_count": null,
   "id": "59c297e2-d097-48c7-84c2-f3cca4300491",
   "metadata": {
    "jp-MarkdownHeadingCollapsed": true
   },
   "outputs": [],
   "source": []
  },
  {
   "cell_type": "code",
   "execution_count": 31,
   "id": "d8110a71-ddb4-475f-9f3b-2bce4bd40fc7",
   "metadata": {},
   "outputs": [
    {
     "name": "stdout",
     "output_type": "stream",
     "text": [
      "Data reddit_posts.csv\n"
     ]
    }
   ],
   "source": [
    "# Convert the collected data to a DataFrame\n",
    "df = pd.DataFrame(posts_data)\n",
    "\n",
    "# Save the dataset to a CSV file\n",
    "filename = \"reddit_posts.csv\"\n",
    "df.to_csv(filename, index=False, encoding=\"utf-8\")\n",
    "print(f\"Data {filename}\")\n"
   ]
  },
  {
   "cell_type": "code",
   "execution_count": null,
   "id": "01d27acc-05b0-4ad6-8521-76519cad163f",
   "metadata": {},
   "outputs": [],
   "source": []
  },
  {
   "cell_type": "code",
   "execution_count": 32,
   "id": "cdfcbccf-9afd-4a07-a8b7-baa5468e338f",
   "metadata": {},
   "outputs": [
    {
     "data": {
      "text/html": [
       "<div>\n",
       "<style scoped>\n",
       "    .dataframe tbody tr th:only-of-type {\n",
       "        vertical-align: middle;\n",
       "    }\n",
       "\n",
       "    .dataframe tbody tr th {\n",
       "        vertical-align: top;\n",
       "    }\n",
       "\n",
       "    .dataframe thead th {\n",
       "        text-align: right;\n",
       "    }\n",
       "</style>\n",
       "<table border=\"1\" class=\"dataframe\">\n",
       "  <thead>\n",
       "    <tr style=\"text-align: right;\">\n",
       "      <th></th>\n",
       "      <th>subreddit</th>\n",
       "      <th>post_id</th>\n",
       "      <th>timestamp</th>\n",
       "      <th>content</th>\n",
       "      <th>upvotes</th>\n",
       "      <th>comments</th>\n",
       "      <th>shares</th>\n",
       "    </tr>\n",
       "  </thead>\n",
       "  <tbody>\n",
       "    <tr>\n",
       "      <th>0</th>\n",
       "      <td>mentalhealth</td>\n",
       "      <td>1jmqcxh</td>\n",
       "      <td>2025-03-29 16:40:31</td>\n",
       "      <td>cope feeling like youre behind life lost lot y...</td>\n",
       "      <td>10</td>\n",
       "      <td>5</td>\n",
       "      <td>0</td>\n",
       "    </tr>\n",
       "    <tr>\n",
       "      <th>1</th>\n",
       "      <td>mentalhealth</td>\n",
       "      <td>1jmt04q</td>\n",
       "      <td>2025-03-29 18:37:15</td>\n",
       "      <td>alone always sit alone daily intrusive thought...</td>\n",
       "      <td>5</td>\n",
       "      <td>2</td>\n",
       "      <td>0</td>\n",
       "    </tr>\n",
       "    <tr>\n",
       "      <th>2</th>\n",
       "      <td>mentalhealth</td>\n",
       "      <td>1jmfpse</td>\n",
       "      <td>2025-03-29 05:50:57</td>\n",
       "      <td>girlfriend undergoing ect im ive known girlfri...</td>\n",
       "      <td>52</td>\n",
       "      <td>48</td>\n",
       "      <td>0</td>\n",
       "    </tr>\n",
       "    <tr>\n",
       "      <th>3</th>\n",
       "      <td>mentalhealth</td>\n",
       "      <td>1jmph45</td>\n",
       "      <td>2025-03-29 16:00:37</td>\n",
       "      <td>indication folk staging intervention soon im s...</td>\n",
       "      <td>4</td>\n",
       "      <td>1</td>\n",
       "      <td>0</td>\n",
       "    </tr>\n",
       "    <tr>\n",
       "      <th>4</th>\n",
       "      <td>mentalhealth</td>\n",
       "      <td>1jmrkrt</td>\n",
       "      <td>2025-03-29 17:34:05</td>\n",
       "      <td>venttraumadump afraid wont well enough go ball...</td>\n",
       "      <td>3</td>\n",
       "      <td>3</td>\n",
       "      <td>0</td>\n",
       "    </tr>\n",
       "  </tbody>\n",
       "</table>\n",
       "</div>"
      ],
      "text/plain": [
       "      subreddit  post_id            timestamp  \\\n",
       "0  mentalhealth  1jmqcxh  2025-03-29 16:40:31   \n",
       "1  mentalhealth  1jmt04q  2025-03-29 18:37:15   \n",
       "2  mentalhealth  1jmfpse  2025-03-29 05:50:57   \n",
       "3  mentalhealth  1jmph45  2025-03-29 16:00:37   \n",
       "4  mentalhealth  1jmrkrt  2025-03-29 17:34:05   \n",
       "\n",
       "                                             content  upvotes  comments  \\\n",
       "0  cope feeling like youre behind life lost lot y...       10         5   \n",
       "1  alone always sit alone daily intrusive thought...        5         2   \n",
       "2  girlfriend undergoing ect im ive known girlfri...       52        48   \n",
       "3  indication folk staging intervention soon im s...        4         1   \n",
       "4  venttraumadump afraid wont well enough go ball...        3         3   \n",
       "\n",
       "   shares  \n",
       "0       0  \n",
       "1       0  \n",
       "2       0  \n",
       "3       0  \n",
       "4       0  "
      ]
     },
     "execution_count": 32,
     "metadata": {},
     "output_type": "execute_result"
    }
   ],
   "source": [
    "df.head()"
   ]
  },
  {
   "cell_type": "code",
   "execution_count": 33,
   "id": "b562ff14-26d0-4160-8039-7474e93881eb",
   "metadata": {},
   "outputs": [
    {
     "data": {
      "text/plain": [
       "(211, 7)"
      ]
     },
     "execution_count": 33,
     "metadata": {},
     "output_type": "execute_result"
    }
   ],
   "source": [
    "df.shape"
   ]
  },
  {
   "cell_type": "code",
   "execution_count": 34,
   "id": "c5b63d14-ad15-4940-ac25-b7fdabf5815d",
   "metadata": {},
   "outputs": [
    {
     "name": "stdout",
     "output_type": "stream",
     "text": [
      "<class 'pandas.core.frame.DataFrame'>\n",
      "RangeIndex: 211 entries, 0 to 210\n",
      "Data columns (total 7 columns):\n",
      " #   Column     Non-Null Count  Dtype \n",
      "---  ------     --------------  ----- \n",
      " 0   subreddit  211 non-null    object\n",
      " 1   post_id    211 non-null    object\n",
      " 2   timestamp  211 non-null    object\n",
      " 3   content    211 non-null    object\n",
      " 4   upvotes    211 non-null    int64 \n",
      " 5   comments   211 non-null    int64 \n",
      " 6   shares     211 non-null    int64 \n",
      "dtypes: int64(3), object(4)\n",
      "memory usage: 11.7+ KB\n",
      "None\n"
     ]
    }
   ],
   "source": [
    "print(df.info())  "
   ]
  },
  {
   "cell_type": "code",
   "execution_count": 35,
   "id": "4c909472-81a0-4244-9966-bfd4d4f6dc9a",
   "metadata": {},
   "outputs": [
    {
     "name": "stdout",
     "output_type": "stream",
     "text": [
      "subreddit    0\n",
      "post_id      0\n",
      "timestamp    0\n",
      "content      0\n",
      "upvotes      0\n",
      "comments     0\n",
      "shares       0\n",
      "dtype: int64\n"
     ]
    }
   ],
   "source": [
    "print(df.isnull().sum())  # Check missing values"
   ]
  },
  {
   "cell_type": "code",
   "execution_count": 36,
   "id": "66580265-30ef-4323-af1a-43bc743840eb",
   "metadata": {},
   "outputs": [
    {
     "name": "stdout",
     "output_type": "stream",
     "text": [
      "count      211.000000\n",
      "mean      1328.161137\n",
      "std       1744.023971\n",
      "min         49.000000\n",
      "25%        487.000000\n",
      "50%        843.000000\n",
      "75%       1539.500000\n",
      "max      14095.000000\n",
      "Name: content_length, dtype: float64\n"
     ]
    }
   ],
   "source": [
    "df['content_length'] = df['content'].apply(len)\n",
    "print(df['content_length'].describe())  # Get min, max, mean length of posts\n"
   ]
  },
  {
   "cell_type": "code",
   "execution_count": null,
   "id": "81d3b6db-a4e0-4750-9f16-7aa1e316add1",
   "metadata": {},
   "outputs": [],
   "source": []
  },
  {
   "cell_type": "code",
   "execution_count": 37,
   "id": "3e6b5d3a-4bb1-4277-aa40-e9b2ae7bd0c2",
   "metadata": {},
   "outputs": [
    {
     "name": "stdout",
     "output_type": "stream",
     "text": [
      "         subreddit  post_id            timestamp  \\\n",
      "32      depression   doqwow  2019-10-29 14:52:02   \n",
      "162     offmychest  1jlreto  2025-03-28 09:50:15   \n",
      "64      depression  1jlk9ub  2025-03-28 02:02:08   \n",
      "148  socialanxiety  1jjt79f  2025-03-25 20:19:27   \n",
      "35      depression  1jm9yrj  2025-03-29 00:24:32   \n",
      "\n",
      "                                               content  upvotes  comments  \\\n",
      "32   mostbroken leastunderstood rule helper may inv...     2363       177   \n",
      "162  spent saving porn hour regret throwaway accoun...     1919       307   \n",
      "64   tonight im going kill name gian im peru unfort...      453       131   \n",
      "148  relative came humiliated dont work dont move d...      158        26   \n",
      "35   dad said depression choice choosing depression...      154        97   \n",
      "\n",
      "     shares  content_length  \n",
      "32        2            3183  \n",
      "162       0            1143  \n",
      "64        0             920  \n",
      "148       0            1024  \n",
      "35        0              96  \n",
      "      subreddit  post_id            timestamp  \\\n",
      "162  offmychest  1jlreto  2025-03-28 09:50:15   \n",
      "33   depression  1frqlk0  2024-09-28 23:05:43   \n",
      "32   depression   doqwow  2019-10-29 14:52:02   \n",
      "64   depression  1jlk9ub  2025-03-28 02:02:08   \n",
      "35   depression  1jm9yrj  2025-03-29 00:24:32   \n",
      "\n",
      "                                               content  upvotes  comments  \\\n",
      "162  spent saving porn hour regret throwaway accoun...     1919       307   \n",
      "33   regular checkin post information rule wikis we...       43       268   \n",
      "32   mostbroken leastunderstood rule helper may inv...     2363       177   \n",
      "64   tonight im going kill name gian im peru unfort...      453       131   \n",
      "35   dad said depression choice choosing depression...      154        97   \n",
      "\n",
      "     shares  content_length  \n",
      "162       0            1143  \n",
      "33        0            1717  \n",
      "32        2            3183  \n",
      "64        0             920  \n",
      "35        0              96  \n"
     ]
    }
   ],
   "source": [
    "print(df.sort_values(by='upvotes', ascending=False).head(5))  # Top 5 upvoted\n",
    "print(df.sort_values(by='comments', ascending=False).head(5))  # Top 5 commented\n"
   ]
  },
  {
   "cell_type": "code",
   "execution_count": null,
   "id": "4d5bbe59-36b7-4aa7-a04f-dc1ac4e73b82",
   "metadata": {},
   "outputs": [],
   "source": []
  },
  {
   "cell_type": "code",
   "execution_count": null,
   "id": "7a21055f-8cb9-46d0-98bb-281967f93540",
   "metadata": {},
   "outputs": [],
   "source": [
    "###  Cleaning the Text\n"
   ]
  },
  {
   "cell_type": "code",
   "execution_count": 38,
   "id": "7e7ec590-93ab-427c-aad3-b82ab2580459",
   "metadata": {},
   "outputs": [
    {
     "data": {
      "text/plain": [
       "0      cope feeling like youre behind life lost lot y...\n",
       "1      alone always sit alone daily intrusive thought...\n",
       "2      girlfriend undergoing ect im ive known girlfri...\n",
       "3      indication folk staging intervention soon im s...\n",
       "4      venttraumadump afraid wont well enough go ball...\n",
       "                             ...                        \n",
       "206    urge cut everyone life boyfriend friend family...\n",
       "207    still child well im since ive bad depression a...\n",
       "208    nothing working im tired bipolar ii trauma dro...\n",
       "209    postdepression weird feeling used depressed ag...\n",
       "210    insurance gsc hi everyone im currently insured...\n",
       "Name: content, Length: 211, dtype: object"
      ]
     },
     "execution_count": 38,
     "metadata": {},
     "output_type": "execute_result"
    }
   ],
   "source": [
    "df['content']"
   ]
  },
  {
   "cell_type": "code",
   "execution_count": 39,
   "id": "2899ea33-98fd-46f2-9445-0b9633aa9633",
   "metadata": {},
   "outputs": [
    {
     "name": "stdout",
     "output_type": "stream",
     "text": [
      "✅ Cleaned dataset saved as cleaned_reddit_posts.csv\n"
     ]
    }
   ],
   "source": [
    "# 🔹 Apply cleaning to dataset\n",
    "df['cleaned_content'] = df['content'].apply(clean_text)\n",
    "\n",
    "# 🔹 Save cleaned dataset\n",
    "df.to_csv(\"cleaned_reddit_posts.csv\", index=False)\n",
    "print(\"✅ Cleaned dataset saved as cleaned_reddit_posts.csv\")\n"
   ]
  },
  {
   "cell_type": "code",
   "execution_count": 40,
   "id": "227cdf03-418f-4063-a3aa-1cff2ccc56e6",
   "metadata": {},
   "outputs": [
    {
     "name": "stdout",
     "output_type": "stream",
     "text": [
      "✅ Cleaned dataset saved with only cleaned content.\n"
     ]
    }
   ],
   "source": [
    "# 🔹 Drop the old content column\n",
    "df = df.drop(columns=['content'])\n",
    "\n",
    "# 🔹 Save the cleaned dataset\n",
    "df.to_csv(\"cleaned_reddit_posts.csv\", index=False)\n",
    "print(\"✅ Cleaned dataset saved with only cleaned content.\")\n"
   ]
  },
  {
   "cell_type": "code",
   "execution_count": 41,
   "id": "26db02a0-0c5e-44dd-a12a-2597891e2096",
   "metadata": {},
   "outputs": [
    {
     "data": {
      "text/html": [
       "<div>\n",
       "<style scoped>\n",
       "    .dataframe tbody tr th:only-of-type {\n",
       "        vertical-align: middle;\n",
       "    }\n",
       "\n",
       "    .dataframe tbody tr th {\n",
       "        vertical-align: top;\n",
       "    }\n",
       "\n",
       "    .dataframe thead th {\n",
       "        text-align: right;\n",
       "    }\n",
       "</style>\n",
       "<table border=\"1\" class=\"dataframe\">\n",
       "  <thead>\n",
       "    <tr style=\"text-align: right;\">\n",
       "      <th></th>\n",
       "      <th>subreddit</th>\n",
       "      <th>post_id</th>\n",
       "      <th>timestamp</th>\n",
       "      <th>upvotes</th>\n",
       "      <th>comments</th>\n",
       "      <th>shares</th>\n",
       "      <th>content_length</th>\n",
       "      <th>cleaned_content</th>\n",
       "    </tr>\n",
       "  </thead>\n",
       "  <tbody>\n",
       "    <tr>\n",
       "      <th>0</th>\n",
       "      <td>mentalhealth</td>\n",
       "      <td>1jmqcxh</td>\n",
       "      <td>2025-03-29 16:40:31</td>\n",
       "      <td>10</td>\n",
       "      <td>5</td>\n",
       "      <td>0</td>\n",
       "      <td>178</td>\n",
       "      <td>cope feeling like youre behind life lost lot y...</td>\n",
       "    </tr>\n",
       "    <tr>\n",
       "      <th>1</th>\n",
       "      <td>mentalhealth</td>\n",
       "      <td>1jmt04q</td>\n",
       "      <td>2025-03-29 18:37:15</td>\n",
       "      <td>5</td>\n",
       "      <td>2</td>\n",
       "      <td>0</td>\n",
       "      <td>603</td>\n",
       "      <td>alone always sit alone daily intrusive thought...</td>\n",
       "    </tr>\n",
       "    <tr>\n",
       "      <th>2</th>\n",
       "      <td>mentalhealth</td>\n",
       "      <td>1jmfpse</td>\n",
       "      <td>2025-03-29 05:50:57</td>\n",
       "      <td>52</td>\n",
       "      <td>48</td>\n",
       "      <td>0</td>\n",
       "      <td>719</td>\n",
       "      <td>girlfriend undergoing ect im ive known girlfri...</td>\n",
       "    </tr>\n",
       "    <tr>\n",
       "      <th>3</th>\n",
       "      <td>mentalhealth</td>\n",
       "      <td>1jmph45</td>\n",
       "      <td>2025-03-29 16:00:37</td>\n",
       "      <td>4</td>\n",
       "      <td>1</td>\n",
       "      <td>0</td>\n",
       "      <td>1001</td>\n",
       "      <td>indication folk staging intervention soon im s...</td>\n",
       "    </tr>\n",
       "    <tr>\n",
       "      <th>4</th>\n",
       "      <td>mentalhealth</td>\n",
       "      <td>1jmrkrt</td>\n",
       "      <td>2025-03-29 17:34:05</td>\n",
       "      <td>3</td>\n",
       "      <td>3</td>\n",
       "      <td>0</td>\n",
       "      <td>1817</td>\n",
       "      <td>venttraumadump afraid wont well enough go ball...</td>\n",
       "    </tr>\n",
       "  </tbody>\n",
       "</table>\n",
       "</div>"
      ],
      "text/plain": [
       "      subreddit  post_id            timestamp  upvotes  comments  shares  \\\n",
       "0  mentalhealth  1jmqcxh  2025-03-29 16:40:31       10         5       0   \n",
       "1  mentalhealth  1jmt04q  2025-03-29 18:37:15        5         2       0   \n",
       "2  mentalhealth  1jmfpse  2025-03-29 05:50:57       52        48       0   \n",
       "3  mentalhealth  1jmph45  2025-03-29 16:00:37        4         1       0   \n",
       "4  mentalhealth  1jmrkrt  2025-03-29 17:34:05        3         3       0   \n",
       "\n",
       "   content_length                                    cleaned_content  \n",
       "0             178  cope feeling like youre behind life lost lot y...  \n",
       "1             603  alone always sit alone daily intrusive thought...  \n",
       "2             719  girlfriend undergoing ect im ive known girlfri...  \n",
       "3            1001  indication folk staging intervention soon im s...  \n",
       "4            1817  venttraumadump afraid wont well enough go ball...  "
      ]
     },
     "execution_count": 41,
     "metadata": {},
     "output_type": "execute_result"
    }
   ],
   "source": [
    "df.head()"
   ]
  },
  {
   "cell_type": "code",
   "execution_count": null,
   "id": "3b956403-1dca-42ee-86dc-737885bade43",
   "metadata": {},
   "outputs": [],
   "source": []
  },
  {
   "cell_type": "code",
   "execution_count": 42,
   "id": "7037949f-8644-4f16-8c49-9f04da0057da",
   "metadata": {},
   "outputs": [
    {
     "name": "stdout",
     "output_type": "stream",
     "text": [
      "count     211.000000\n",
      "mean      196.549763\n",
      "std       245.857646\n",
      "min         9.000000\n",
      "25%        70.000000\n",
      "50%       126.000000\n",
      "75%       227.000000\n",
      "max      1939.000000\n",
      "Name: word_count, dtype: float64\n"
     ]
    }
   ],
   "source": [
    "df['word_count'] = df['cleaned_content'].apply(lambda x: len(x.split()))\n",
    "print(df['word_count'].describe())\n"
   ]
  },
  {
   "cell_type": "code",
   "execution_count": null,
   "id": "647112dd-4c21-4692-828e-9ebadfe01961",
   "metadata": {},
   "outputs": [],
   "source": []
  },
  {
   "cell_type": "markdown",
   "id": "63dbd696-4a4c-4a46-8701-8d2001cd8019",
   "metadata": {},
   "source": [
    "# Task 2"
   ]
  },
  {
   "cell_type": "code",
   "execution_count": 43,
   "id": "b48bade9-946e-4ef8-b6d8-19f5664a122d",
   "metadata": {},
   "outputs": [],
   "source": [
    "### 🔹 Step 1: Sentiment Analysis \n"
   ]
  },
  {
   "cell_type": "code",
   "execution_count": 44,
   "id": "edb289a1-6a0c-4f3d-829f-7bc40a0e4106",
   "metadata": {},
   "outputs": [],
   "source": [
    "import torch\n",
    "from transformers import AutoModelForSequenceClassification, AutoTokenizer\n"
   ]
  },
  {
   "cell_type": "code",
   "execution_count": 45,
   "id": "a315eadb-df1c-49cf-833b-dda317c5e689",
   "metadata": {},
   "outputs": [],
   "source": [
    "# 🔹 Load pre-trained BERT sentiment model (DistilBERT-SST-2)\n",
    "\n",
    "MODEL_NAME = \"distilbert-base-uncased-finetuned-sst-2-english\"\n",
    "tokenizer = AutoTokenizer.from_pretrained(MODEL_NAME)\n",
    "model = AutoModelForSequenceClassification.from_pretrained(MODEL_NAME)\n"
   ]
  },
  {
   "cell_type": "code",
   "execution_count": null,
   "id": "f443b48b-e870-496e-88ad-5f079ae2ab63",
   "metadata": {},
   "outputs": [],
   "source": []
  },
  {
   "cell_type": "code",
   "execution_count": 46,
   "id": "2d55eaa9-19c7-42c9-912a-67bbe5d3a8c0",
   "metadata": {},
   "outputs": [],
   "source": [
    "# 🔹 Function to classify sentiment\n",
    "\n",
    "\n",
    "def classify_sentiment(text):\n",
    "    inputs = tokenizer(text, return_tensors=\"pt\", truncation=True, padding=True, max_length=512)\n",
    "    with torch.no_grad():\n",
    "        outputs = model(**inputs)\n",
    "    probs = torch.nn.functional.softmax(outputs.logits, dim=-1)\n",
    "    sentiment = \"Positive\" if torch.argmax(probs) == 1 else \"Negative\"\n",
    "    return sentiment\n"
   ]
  },
  {
   "cell_type": "code",
   "execution_count": 47,
   "id": "2521e4d3-3486-4f22-ac83-5914871083b0",
   "metadata": {},
   "outputs": [],
   "source": [
    "# 🔹 Load your cleaned Reddit dataset\n",
    "df = pd.read_csv(\"cleaned_reddit_posts.csv\")\n",
    "\n",
    "# 🔹 Apply BERT-based sentiment analysis\n",
    "df[\"Sentiment\"] = df[\"cleaned_content\"].apply(classify_sentiment)\n"
   ]
  },
  {
   "cell_type": "code",
   "execution_count": 48,
   "id": "08a1b4c5-70eb-4357-a5fc-a67f79e038c1",
   "metadata": {},
   "outputs": [
    {
     "data": {
      "text/plain": [
       "Sentiment\n",
       "Negative    208\n",
       "Positive      3\n",
       "Name: count, dtype: int64"
      ]
     },
     "execution_count": 48,
     "metadata": {},
     "output_type": "execute_result"
    }
   ],
   "source": [
    "df['Sentiment'].value_counts()"
   ]
  },
  {
   "cell_type": "code",
   "execution_count": 49,
   "id": "94629087-1a81-4435-aca9-f3effedcc5b6",
   "metadata": {},
   "outputs": [
    {
     "data": {
      "image/png": "[encoded data removed]",
      "text/plain": [
       "<Figure size 640x480 with 1 Axes>"
      ]
     },
     "metadata": {},
     "output_type": "display_data"
    }
   ],
   "source": [
    "import matplotlib.pyplot as plt\n",
    "\n",
    "# 🔹 Plot sentiment distribution\n",
    "df[\"Sentiment\"].value_counts().plot(kind=\"bar\", color=[\"green\", \"red\"])\n",
    "plt.xlabel(\"Sentiment\")\n",
    "plt.ylabel(\"Count\")\n",
    "plt.title(\"Sentiment Distribution in Reddit Posts\")\n",
    "plt.xticks(rotation=0)\n",
    "plt.show()\n"
   ]
  },
  {
   "cell_type": "code",
   "execution_count": null,
   "id": "6d9a962a-1b57-4356-82ea-ea8d7322375c",
   "metadata": {},
   "outputs": [],
   "source": []
  },
  {
   "cell_type": "code",
   "execution_count": null,
   "id": "1ebed7b8-eda2-44c4-8e18-8ffd4e2f90c3",
   "metadata": {},
   "outputs": [],
   "source": []
  },
  {
   "cell_type": "code",
   "execution_count": 50,
   "id": "28b6bd62-5b62-435c-8469-8c84132aba1d",
   "metadata": {},
   "outputs": [],
   "source": [
    "from transformers import BertTokenizer, BertModel\n",
    "import torch\n",
    "\n",
    "# 🔹 Load BERT model\n",
    "tokenizer = BertTokenizer.from_pretrained(\"bert-base-uncased\")\n",
    "model = BertModel.from_pretrained(\"bert-base-uncased\")\n",
    "\n",
    "def get_bert_embedding(text):\n",
    "    inputs = tokenizer(text, return_tensors=\"pt\", truncation=True, padding=True, max_length=512)\n",
    "    with torch.no_grad():\n",
    "        outputs = model(**inputs)\n",
    "    return outputs.last_hidden_state.mean(dim=1).squeeze().numpy()\n",
    "\n"
   ]
  },
  {
   "cell_type": "code",
   "execution_count": 51,
   "id": "9cae2f81-719e-489f-9edd-23b2b84039a8",
   "metadata": {},
   "outputs": [],
   "source": [
    "# 🔹 Apply BERT embedding extraction\n",
    "\n",
    "df[\"bert_embedding\"] = df[\"cleaned_content\"].apply(get_bert_embedding)\n"
   ]
  },
  {
   "cell_type": "code",
   "execution_count": 52,
   "id": "27ff99bf-61ab-462e-86a1-45c68498dab8",
   "metadata": {},
   "outputs": [
    {
     "data": {
      "text/plain": [
       "0      [-0.065210484, 0.051498298, 0.5113644, -0.3147...\n",
       "1      [0.036844797, 0.19994314, 0.597245, -0.1045754...\n",
       "2      [-0.4317792, 0.08514319, 0.5397357, -0.1913758...\n",
       "3      [-0.13409388, 0.14326204, 0.59459174, -0.09169...\n",
       "4      [-0.3785818, 0.006924362, 0.7146765, 0.0193388...\n",
       "                             ...                        \n",
       "206    [-0.21317784, 0.24876373, 0.6285367, -0.122089...\n",
       "207    [-0.16840787, 0.12846321, 0.6164041, -0.141022...\n",
       "208    [-0.1699225, 0.36333868, 0.55185455, -0.168345...\n",
       "209    [-0.34039456, 0.30973887, 0.46170864, -0.02372...\n",
       "210    [-0.22407672, 0.18867493, 0.51025665, -0.06395...\n",
       "Name: bert_embedding, Length: 211, dtype: object"
      ]
     },
     "execution_count": 52,
     "metadata": {},
     "output_type": "execute_result"
    }
   ],
   "source": [
    "df[\"bert_embedding\"] "
   ]
  },
  {
   "cell_type": "code",
   "execution_count": 53,
   "id": "fba6a7f7-4a10-4e80-ba6b-30b5c4f837a4",
   "metadata": {},
   "outputs": [],
   "source": [
    "import numpy as np"
   ]
  },
  {
   "cell_type": "code",
   "execution_count": 54,
   "id": "52a9bdc3-be42-4d6d-88fd-1e6f2789dd38",
   "metadata": {},
   "outputs": [],
   "source": [
    "# Convert embeddings to array\n",
    "X = np.vstack(df['bert_embedding'].values)\n"
   ]
  },
  {
   "cell_type": "code",
   "execution_count": 55,
   "id": "dd9fa8be-853e-4d34-840b-7a28a3e36bc0",
   "metadata": {},
   "outputs": [],
   "source": [
    "# Define risk keywords\n",
    "\n",
    "high_risk_keywords = [\n",
    "    \"suicide\", \"end it\", \"kill myself\", \"no reason to live\", \"goodbye\",\n",
    "    \"i can't go on\", \"want to disappear\", \"i want to die\"\n",
    "]\n",
    "moderate_risk_keywords = [\n",
    "    \"feel lost\", \"struggling\", \"hopeless\", \"depressed\", \"numb\",\n",
    "    \"no motivation\", \"lonely\", \"empty\", \"anxious\", \"tired of everything\"\n",
    "]\n",
    "\n"
   ]
  },
  {
   "cell_type": "code",
   "execution_count": 56,
   "id": "f2242b4c-3c68-4b67-b8a9-9e9c5023ecb7",
   "metadata": {},
   "outputs": [],
   "source": [
    "# Function to classify posts based on keywords\n",
    "def classify_risk(text):\n",
    "    text = text.lower()\n",
    "    if any(term in text for term in high_risk_keywords):\n",
    "        return 'High-Risk'\n",
    "    elif any(term in text for term in moderate_risk_keywords):\n",
    "        return 'Moderate Concern'\n",
    "    else:\n",
    "        return 'Low Concern'\n"
   ]
  },
  {
   "cell_type": "code",
   "execution_count": 57,
   "id": "ade9b010-dd77-47e5-8200-3b6773a6d490",
   "metadata": {},
   "outputs": [],
   "source": [
    "# Apply the function\n",
    "df['risk_level'] = df['cleaned_content'].apply(classify_risk)\n"
   ]
  },
  {
   "cell_type": "code",
   "execution_count": 58,
   "id": "d512f04d-bd13-4761-8250-52ae82be46b8",
   "metadata": {},
   "outputs": [
    {
     "name": "stdout",
     "output_type": "stream",
     "text": [
      "risk_level\n",
      "Low Concern         116\n",
      "Moderate Concern     80\n",
      "High-Risk            15\n",
      "Name: count, dtype: int64\n"
     ]
    }
   ],
   "source": [
    "# Check new class distribution\n",
    "print(df['risk_level'].value_counts())\n"
   ]
  },
  {
   "cell_type": "code",
   "execution_count": null,
   "id": "160bdb91-49be-49af-9b9d-36efe86f1370",
   "metadata": {},
   "outputs": [],
   "source": []
  },
  {
   "cell_type": "code",
   "execution_count": 59,
   "id": "7ff9c425-bec0-4665-af58-14ff71b89770",
   "metadata": {},
   "outputs": [],
   "source": [
    "# Convert labels to numerical format\n",
    "\n",
    "y = df['risk_level'].map({'High-Risk': 2, 'Moderate Concern': 1, 'Low Concern': 0})"
   ]
  },
  {
   "cell_type": "code",
   "execution_count": 60,
   "id": "8bcfe0e9-db27-4bd5-a37b-d2b9705b6a65",
   "metadata": {},
   "outputs": [],
   "source": [
    "from sklearn.ensemble import RandomForestClassifier\n",
    "from sklearn.model_selection import train_test_split\n",
    "from sklearn.metrics import classification_report\n"
   ]
  },
  {
   "cell_type": "code",
   "execution_count": null,
   "id": "90d23c9a-30e8-4904-9cb6-ad2c407cd7ea",
   "metadata": {},
   "outputs": [],
   "source": []
  },
  {
   "cell_type": "code",
   "execution_count": 62,
   "id": "f0fa7a52-e7a3-432d-9b37-540a9547760f",
   "metadata": {},
   "outputs": [],
   "source": [
    "# Train Random Forest classifier with class weights\n",
    "clf = RandomForestClassifier(n_estimators=100, class_weight='balanced', random_state=42)\n",
    "X_train, X_test, y_train, y_test = train_test_split(X, y, test_size=0.2, random_state=42)\n",
    "\n",
    "clf.fit(X_train, y_train)\n",
    "\n",
    "# Predictions\n",
    "y_pred = clf.predict(X_test)\n"
   ]
  },
  {
   "cell_type": "code",
   "execution_count": null,
   "id": "dee36d13-d304-4b49-b18a-5223e1289926",
   "metadata": {},
   "outputs": [],
   "source": []
  },
  {
   "cell_type": "code",
   "execution_count": 64,
   "id": "4c504aa4-4ca6-43e6-8a28-22f65006bf42",
   "metadata": {},
   "outputs": [
    {
     "name": "stdout",
     "output_type": "stream",
     "text": [
      "                  precision    recall  f1-score   support\n",
      "\n",
      "     Low Concern       0.68      0.96      0.79        24\n",
      "Moderate Concern       0.78      0.41      0.54        17\n",
      "       High-Risk       0.00      0.00      0.00         2\n",
      "\n",
      "        accuracy                           0.70        43\n",
      "       macro avg       0.48      0.46      0.44        43\n",
      "    weighted avg       0.69      0.70      0.66        43\n",
      "\n"
     ]
    },
    {
     "name": "stderr",
     "output_type": "stream",
     "text": [
      "/home/aakash/miniconda3/envs/env1/lib/python3.12/site-packages/sklearn/metrics/_classification.py:1565: UndefinedMetricWarning: Precision is ill-defined and being set to 0.0 in labels with no predicted samples. Use `zero_division` parameter to control this behavior.\n",
      "  _warn_prf(average, modifier, f\"{metric.capitalize()} is\", len(result))\n",
      "/home/aakash/miniconda3/envs/env1/lib/python3.12/site-packages/sklearn/metrics/_classification.py:1565: UndefinedMetricWarning: Precision is ill-defined and being set to 0.0 in labels with no predicted samples. Use `zero_division` parameter to control this behavior.\n",
      "  _warn_prf(average, modifier, f\"{metric.capitalize()} is\", len(result))\n",
      "/home/aakash/miniconda3/envs/env1/lib/python3.12/site-packages/sklearn/metrics/_classification.py:1565: UndefinedMetricWarning: Precision is ill-defined and being set to 0.0 in labels with no predicted samples. Use `zero_division` parameter to control this behavior.\n",
      "  _warn_prf(average, modifier, f\"{metric.capitalize()} is\", len(result))\n"
     ]
    }
   ],
   "source": [
    "# Print classification report\n",
    "print(classification_report(y_test, y_pred, labels=[0, 1, 2], target_names=['Low Concern', 'Moderate Concern', 'High-Risk']))\n"
   ]
  },
  {
   "cell_type": "code",
   "execution_count": null,
   "id": "cf23f16e-5499-4c4e-9933-c5f23a4adb6b",
   "metadata": {},
   "outputs": [],
   "source": []
  },
  {
   "cell_type": "code",
   "execution_count": null,
   "id": "49006629-e2d0-4c48-97a6-9154a49e196f",
   "metadata": {},
   "outputs": [],
   "source": []
  },
  {
   "cell_type": "code",
   "execution_count": 65,
   "id": "4bec8f76-797c-43ba-b810-28cf69094018",
   "metadata": {},
   "outputs": [],
   "source": [
    "# 🔹 Load your cleaned Reddit dataset\n",
    "\n",
    "df = pd.read_csv(\"cleaned_reddit_posts.csv\")"
   ]
  },
  {
   "cell_type": "code",
   "execution_count": 67,
   "id": "ae91137f-fd79-4aa5-a4d1-9b491b741287",
   "metadata": {},
   "outputs": [
    {
     "data": {
      "text/html": [
       "<div>\n",
       "<style scoped>\n",
       "    .dataframe tbody tr th:only-of-type {\n",
       "        vertical-align: middle;\n",
       "    }\n",
       "\n",
       "    .dataframe tbody tr th {\n",
       "        vertical-align: top;\n",
       "    }\n",
       "\n",
       "    .dataframe thead th {\n",
       "        text-align: right;\n",
       "    }\n",
       "</style>\n",
       "<table border=\"1\" class=\"dataframe\">\n",
       "  <thead>\n",
       "    <tr style=\"text-align: right;\">\n",
       "      <th></th>\n",
       "      <th>subreddit</th>\n",
       "      <th>post_id</th>\n",
       "      <th>timestamp</th>\n",
       "      <th>upvotes</th>\n",
       "      <th>comments</th>\n",
       "      <th>shares</th>\n",
       "      <th>content_length</th>\n",
       "      <th>cleaned_content</th>\n",
       "    </tr>\n",
       "  </thead>\n",
       "  <tbody>\n",
       "    <tr>\n",
       "      <th>0</th>\n",
       "      <td>mentalhealth</td>\n",
       "      <td>1jmqcxh</td>\n",
       "      <td>2025-03-29 16:40:31</td>\n",
       "      <td>10</td>\n",
       "      <td>5</td>\n",
       "      <td>0</td>\n",
       "      <td>178</td>\n",
       "      <td>cope feeling like youre behind life lost lot y...</td>\n",
       "    </tr>\n",
       "    <tr>\n",
       "      <th>1</th>\n",
       "      <td>mentalhealth</td>\n",
       "      <td>1jmt04q</td>\n",
       "      <td>2025-03-29 18:37:15</td>\n",
       "      <td>5</td>\n",
       "      <td>2</td>\n",
       "      <td>0</td>\n",
       "      <td>603</td>\n",
       "      <td>alone always sit alone daily intrusive thought...</td>\n",
       "    </tr>\n",
       "    <tr>\n",
       "      <th>2</th>\n",
       "      <td>mentalhealth</td>\n",
       "      <td>1jmfpse</td>\n",
       "      <td>2025-03-29 05:50:57</td>\n",
       "      <td>52</td>\n",
       "      <td>48</td>\n",
       "      <td>0</td>\n",
       "      <td>719</td>\n",
       "      <td>girlfriend undergoing ect im ive known girlfri...</td>\n",
       "    </tr>\n",
       "    <tr>\n",
       "      <th>3</th>\n",
       "      <td>mentalhealth</td>\n",
       "      <td>1jmph45</td>\n",
       "      <td>2025-03-29 16:00:37</td>\n",
       "      <td>4</td>\n",
       "      <td>1</td>\n",
       "      <td>0</td>\n",
       "      <td>1001</td>\n",
       "      <td>indication folk staging intervention soon im s...</td>\n",
       "    </tr>\n",
       "    <tr>\n",
       "      <th>4</th>\n",
       "      <td>mentalhealth</td>\n",
       "      <td>1jmrkrt</td>\n",
       "      <td>2025-03-29 17:34:05</td>\n",
       "      <td>3</td>\n",
       "      <td>3</td>\n",
       "      <td>0</td>\n",
       "      <td>1817</td>\n",
       "      <td>venttraumadump afraid wont well enough go ball...</td>\n",
       "    </tr>\n",
       "  </tbody>\n",
       "</table>\n",
       "</div>"
      ],
      "text/plain": [
       "      subreddit  post_id            timestamp  upvotes  comments  shares  \\\n",
       "0  mentalhealth  1jmqcxh  2025-03-29 16:40:31       10         5       0   \n",
       "1  mentalhealth  1jmt04q  2025-03-29 18:37:15        5         2       0   \n",
       "2  mentalhealth  1jmfpse  2025-03-29 05:50:57       52        48       0   \n",
       "3  mentalhealth  1jmph45  2025-03-29 16:00:37        4         1       0   \n",
       "4  mentalhealth  1jmrkrt  2025-03-29 17:34:05        3         3       0   \n",
       "\n",
       "   content_length                                    cleaned_content  \n",
       "0             178  cope feeling like youre behind life lost lot y...  \n",
       "1             603  alone always sit alone daily intrusive thought...  \n",
       "2             719  girlfriend undergoing ect im ive known girlfri...  \n",
       "3            1001  indication folk staging intervention soon im s...  \n",
       "4            1817  venttraumadump afraid wont well enough go ball...  "
      ]
     },
     "execution_count": 67,
     "metadata": {},
     "output_type": "execute_result"
    }
   ],
   "source": [
    "df.head()"
   ]
  },
  {
   "cell_type": "code",
   "execution_count": null,
   "id": "5bbbadd5-12db-4e85-b6f4-0be8a0e79975",
   "metadata": {},
   "outputs": [],
   "source": []
  },
  {
   "cell_type": "code",
   "execution_count": null,
   "id": "bd160e23-f73a-4402-b499-53e27e3ac4ae",
   "metadata": {},
   "outputs": [],
   "source": []
  },
  {
   "cell_type": "code",
   "execution_count": null,
   "id": "d59ba6db-a482-470b-8466-286f24c3020f",
   "metadata": {},
   "outputs": [],
   "source": []
  },
  {
   "cell_type": "code",
   "execution_count": null,
   "id": "eb014207-054b-44dc-aa65-2535ab4b71db",
   "metadata": {},
   "outputs": [],
   "source": [
    "## Step 2: Crisis Risk Classification (TF-IDF & Rule-Based Detection)\n"
   ]
  },
  {
   "cell_type": "code",
   "execution_count": null,
   "id": "ab17082f-cf05-4c1b-80d5-5d801f169ebf",
   "metadata": {},
   "outputs": [],
   "source": []
  },
  {
   "cell_type": "code",
   "execution_count": 69,
   "id": "e66c6403-2ba0-4715-8ff3-1c0a093c3c77",
   "metadata": {},
   "outputs": [
    {
     "name": "stdout",
     "output_type": "stream",
     "text": [
      "✅ Crisis risk classification done!\n"
     ]
    }
   ],
   "source": [
    "high_risk_terms = [\n",
    "    \"i don’t want to be here\", \"i want to end it\", \"life is meaningless\", \n",
    "    \"no reason to live\", \"i can’t go on\", \"goodbye everyone\", \"ending it all\"\n",
    "]\n",
    "\n",
    "moderate_risk_terms = [\n",
    "    \"i feel lost\", \"struggling\", \"overwhelmed\", \"i need help\", \"nobody understands\", \n",
    "    \"depressed\", \"can’t cope\", \"feeling empty\"\n",
    "]\n",
    "\n",
    "# Function to classify crisis risk level\n",
    "def classify_risk(text):\n",
    "    text_lower = text.lower()\n",
    "    if any(term in text_lower for term in high_risk_terms):\n",
    "        return \"High-Risk\"\n",
    "    elif any(term in text_lower for term in moderate_risk_terms):\n",
    "        return \"Moderate Concern\"\n",
    "    else:\n",
    "        return \"Low Concern\"\n",
    "\n",
    "# Apply risk classification\n",
    "df[\"Risk_Level\"] = df[\"cleaned_content\"].apply(classify_risk)\n",
    "\n",
    "# Save the updated dataset\n",
    "df.to_csv(\"classified_twitter_data.csv\", index=False)\n",
    "print(\"✅ Crisis risk classification done!\")\n"
   ]
  },
  {
   "cell_type": "code",
   "execution_count": null,
   "id": "c83b2681-7315-437a-b667-9a26a8df7169",
   "metadata": {},
   "outputs": [],
   "source": []
  },
  {
   "cell_type": "code",
   "execution_count": 70,
   "id": "0a2baa2d-10b6-44db-9451-666546bbf1f9",
   "metadata": {},
   "outputs": [
    {
     "data": {
      "text/html": [
       "<div>\n",
       "<style scoped>\n",
       "    .dataframe tbody tr th:only-of-type {\n",
       "        vertical-align: middle;\n",
       "    }\n",
       "\n",
       "    .dataframe tbody tr th {\n",
       "        vertical-align: top;\n",
       "    }\n",
       "\n",
       "    .dataframe thead th {\n",
       "        text-align: right;\n",
       "    }\n",
       "</style>\n",
       "<table border=\"1\" class=\"dataframe\">\n",
       "  <thead>\n",
       "    <tr style=\"text-align: right;\">\n",
       "      <th></th>\n",
       "      <th>subreddit</th>\n",
       "      <th>post_id</th>\n",
       "      <th>timestamp</th>\n",
       "      <th>upvotes</th>\n",
       "      <th>comments</th>\n",
       "      <th>shares</th>\n",
       "      <th>content_length</th>\n",
       "      <th>cleaned_content</th>\n",
       "      <th>Risk_Level</th>\n",
       "    </tr>\n",
       "  </thead>\n",
       "  <tbody>\n",
       "    <tr>\n",
       "      <th>0</th>\n",
       "      <td>mentalhealth</td>\n",
       "      <td>1jmqcxh</td>\n",
       "      <td>2025-03-29 16:40:31</td>\n",
       "      <td>10</td>\n",
       "      <td>5</td>\n",
       "      <td>0</td>\n",
       "      <td>178</td>\n",
       "      <td>cope feeling like youre behind life lost lot y...</td>\n",
       "      <td>Low Concern</td>\n",
       "    </tr>\n",
       "    <tr>\n",
       "      <th>1</th>\n",
       "      <td>mentalhealth</td>\n",
       "      <td>1jmt04q</td>\n",
       "      <td>2025-03-29 18:37:15</td>\n",
       "      <td>5</td>\n",
       "      <td>2</td>\n",
       "      <td>0</td>\n",
       "      <td>603</td>\n",
       "      <td>alone always sit alone daily intrusive thought...</td>\n",
       "      <td>Low Concern</td>\n",
       "    </tr>\n",
       "    <tr>\n",
       "      <th>2</th>\n",
       "      <td>mentalhealth</td>\n",
       "      <td>1jmfpse</td>\n",
       "      <td>2025-03-29 05:50:57</td>\n",
       "      <td>52</td>\n",
       "      <td>48</td>\n",
       "      <td>0</td>\n",
       "      <td>719</td>\n",
       "      <td>girlfriend undergoing ect im ive known girlfri...</td>\n",
       "      <td>Moderate Concern</td>\n",
       "    </tr>\n",
       "    <tr>\n",
       "      <th>3</th>\n",
       "      <td>mentalhealth</td>\n",
       "      <td>1jmph45</td>\n",
       "      <td>2025-03-29 16:00:37</td>\n",
       "      <td>4</td>\n",
       "      <td>1</td>\n",
       "      <td>0</td>\n",
       "      <td>1001</td>\n",
       "      <td>indication folk staging intervention soon im s...</td>\n",
       "      <td>Moderate Concern</td>\n",
       "    </tr>\n",
       "    <tr>\n",
       "      <th>4</th>\n",
       "      <td>mentalhealth</td>\n",
       "      <td>1jmrkrt</td>\n",
       "      <td>2025-03-29 17:34:05</td>\n",
       "      <td>3</td>\n",
       "      <td>3</td>\n",
       "      <td>0</td>\n",
       "      <td>1817</td>\n",
       "      <td>venttraumadump afraid wont well enough go ball...</td>\n",
       "      <td>Low Concern</td>\n",
       "    </tr>\n",
       "  </tbody>\n",
       "</table>\n",
       "</div>"
      ],
      "text/plain": [
       "      subreddit  post_id            timestamp  upvotes  comments  shares  \\\n",
       "0  mentalhealth  1jmqcxh  2025-03-29 16:40:31       10         5       0   \n",
       "1  mentalhealth  1jmt04q  2025-03-29 18:37:15        5         2       0   \n",
       "2  mentalhealth  1jmfpse  2025-03-29 05:50:57       52        48       0   \n",
       "3  mentalhealth  1jmph45  2025-03-29 16:00:37        4         1       0   \n",
       "4  mentalhealth  1jmrkrt  2025-03-29 17:34:05        3         3       0   \n",
       "\n",
       "   content_length                                    cleaned_content  \\\n",
       "0             178  cope feeling like youre behind life lost lot y...   \n",
       "1             603  alone always sit alone daily intrusive thought...   \n",
       "2             719  girlfriend undergoing ect im ive known girlfri...   \n",
       "3            1001  indication folk staging intervention soon im s...   \n",
       "4            1817  venttraumadump afraid wont well enough go ball...   \n",
       "\n",
       "         Risk_Level  \n",
       "0       Low Concern  \n",
       "1       Low Concern  \n",
       "2  Moderate Concern  \n",
       "3  Moderate Concern  \n",
       "4       Low Concern  "
      ]
     },
     "execution_count": 70,
     "metadata": {},
     "output_type": "execute_result"
    }
   ],
   "source": [
    "df.head()"
   ]
  },
  {
   "cell_type": "code",
   "execution_count": null,
   "id": "4e951226-f066-4f47-8243-bd38f6d90c57",
   "metadata": {},
   "outputs": [],
   "source": []
  },
  {
   "cell_type": "code",
   "execution_count": 71,
   "id": "f60a237e-3471-4fc0-a493-6e05f41e7984",
   "metadata": {},
   "outputs": [],
   "source": [
    "### 🔹 Step 3: Visualizing Sentiment & Risk Distribution\n"
   ]
  },
  {
   "cell_type": "code",
   "execution_count": 73,
   "id": "47fadb98-d9f1-4bd7-94ae-f5045beaa909",
   "metadata": {},
   "outputs": [
    {
     "data": {
      "text/html": [
       "<div>\n",
       "<style scoped>\n",
       "    .dataframe tbody tr th:only-of-type {\n",
       "        vertical-align: middle;\n",
       "    }\n",
       "\n",
       "    .dataframe tbody tr th {\n",
       "        vertical-align: top;\n",
       "    }\n",
       "\n",
       "    .dataframe thead th {\n",
       "        text-align: right;\n",
       "    }\n",
       "</style>\n",
       "<table border=\"1\" class=\"dataframe\">\n",
       "  <thead>\n",
       "    <tr style=\"text-align: right;\">\n",
       "      <th></th>\n",
       "      <th>subreddit</th>\n",
       "      <th>post_id</th>\n",
       "      <th>timestamp</th>\n",
       "      <th>upvotes</th>\n",
       "      <th>comments</th>\n",
       "      <th>shares</th>\n",
       "      <th>content_length</th>\n",
       "      <th>cleaned_content</th>\n",
       "      <th>Risk_Level</th>\n",
       "    </tr>\n",
       "  </thead>\n",
       "  <tbody>\n",
       "    <tr>\n",
       "      <th>0</th>\n",
       "      <td>mentalhealth</td>\n",
       "      <td>1jmqcxh</td>\n",
       "      <td>2025-03-29 16:40:31</td>\n",
       "      <td>10</td>\n",
       "      <td>5</td>\n",
       "      <td>0</td>\n",
       "      <td>178</td>\n",
       "      <td>cope feeling like youre behind life lost lot y...</td>\n",
       "      <td>Low Concern</td>\n",
       "    </tr>\n",
       "    <tr>\n",
       "      <th>1</th>\n",
       "      <td>mentalhealth</td>\n",
       "      <td>1jmt04q</td>\n",
       "      <td>2025-03-29 18:37:15</td>\n",
       "      <td>5</td>\n",
       "      <td>2</td>\n",
       "      <td>0</td>\n",
       "      <td>603</td>\n",
       "      <td>alone always sit alone daily intrusive thought...</td>\n",
       "      <td>Low Concern</td>\n",
       "    </tr>\n",
       "    <tr>\n",
       "      <th>2</th>\n",
       "      <td>mentalhealth</td>\n",
       "      <td>1jmfpse</td>\n",
       "      <td>2025-03-29 05:50:57</td>\n",
       "      <td>52</td>\n",
       "      <td>48</td>\n",
       "      <td>0</td>\n",
       "      <td>719</td>\n",
       "      <td>girlfriend undergoing ect im ive known girlfri...</td>\n",
       "      <td>Moderate Concern</td>\n",
       "    </tr>\n",
       "    <tr>\n",
       "      <th>3</th>\n",
       "      <td>mentalhealth</td>\n",
       "      <td>1jmph45</td>\n",
       "      <td>2025-03-29 16:00:37</td>\n",
       "      <td>4</td>\n",
       "      <td>1</td>\n",
       "      <td>0</td>\n",
       "      <td>1001</td>\n",
       "      <td>indication folk staging intervention soon im s...</td>\n",
       "      <td>Moderate Concern</td>\n",
       "    </tr>\n",
       "    <tr>\n",
       "      <th>4</th>\n",
       "      <td>mentalhealth</td>\n",
       "      <td>1jmrkrt</td>\n",
       "      <td>2025-03-29 17:34:05</td>\n",
       "      <td>3</td>\n",
       "      <td>3</td>\n",
       "      <td>0</td>\n",
       "      <td>1817</td>\n",
       "      <td>venttraumadump afraid wont well enough go ball...</td>\n",
       "      <td>Low Concern</td>\n",
       "    </tr>\n",
       "  </tbody>\n",
       "</table>\n",
       "</div>"
      ],
      "text/plain": [
       "      subreddit  post_id            timestamp  upvotes  comments  shares  \\\n",
       "0  mentalhealth  1jmqcxh  2025-03-29 16:40:31       10         5       0   \n",
       "1  mentalhealth  1jmt04q  2025-03-29 18:37:15        5         2       0   \n",
       "2  mentalhealth  1jmfpse  2025-03-29 05:50:57       52        48       0   \n",
       "3  mentalhealth  1jmph45  2025-03-29 16:00:37        4         1       0   \n",
       "4  mentalhealth  1jmrkrt  2025-03-29 17:34:05        3         3       0   \n",
       "\n",
       "   content_length                                    cleaned_content  \\\n",
       "0             178  cope feeling like youre behind life lost lot y...   \n",
       "1             603  alone always sit alone daily intrusive thought...   \n",
       "2             719  girlfriend undergoing ect im ive known girlfri...   \n",
       "3            1001  indication folk staging intervention soon im s...   \n",
       "4            1817  venttraumadump afraid wont well enough go ball...   \n",
       "\n",
       "         Risk_Level  \n",
       "0       Low Concern  \n",
       "1       Low Concern  \n",
       "2  Moderate Concern  \n",
       "3  Moderate Concern  \n",
       "4       Low Concern  "
      ]
     },
     "execution_count": 73,
     "metadata": {},
     "output_type": "execute_result"
    }
   ],
   "source": [
    "df.head()"
   ]
  },
  {
   "cell_type": "code",
   "execution_count": null,
   "id": "9f38e877-83c6-449e-a100-fe72cd5cc5ec",
   "metadata": {},
   "outputs": [],
   "source": []
  },
  {
   "cell_type": "code",
   "execution_count": 74,
   "id": "85e9a738-ada9-4c8c-bc8d-2e44a42ba7e4",
   "metadata": {},
   "outputs": [
    {
     "name": "stderr",
     "output_type": "stream",
     "text": [
      "/tmp/ipykernel_33549/4124987799.py:9: FutureWarning: \n",
      "\n",
      "Passing `palette` without assigning `hue` is deprecated and will be removed in v0.14.0. Assign the `x` variable to `hue` and set `legend=False` for the same effect.\n",
      "\n",
      "  sns.countplot(x=df[\"Risk_Level\"], palette=\"coolwarm\")\n"
     ]
    },
    {
     "data": {
      "image/png": "[encoded data removed]",
      "text/plain": [
       "<Figure size 800x400 with 1 Axes>"
      ]
     },
     "metadata": {},
     "output_type": "display_data"
    },
    {
     "name": "stderr",
     "output_type": "stream",
     "text": [
      "/tmp/ipykernel_33549/4124987799.py:15: FutureWarning: \n",
      "\n",
      "Passing `palette` without assigning `hue` is deprecated and will be removed in v0.14.0. Assign the `x` variable to `hue` and set `legend=False` for the same effect.\n",
      "\n",
      "  sns.countplot(x=df[\"Risk_Level\"], palette=\"Reds\")\n"
     ]
    },
    {
     "data": {
      "image/png": "[encoded data removed]",
      "text/plain": [
       "<Figure size 800x400 with 1 Axes>"
      ]
     },
     "metadata": {},
     "output_type": "display_data"
    }
   ],
   "source": [
    "import matplotlib.pyplot as plt\n",
    "import seaborn as sns\n",
    "\n",
    "# Set style\n",
    "sns.set_style(\"darkgrid\")\n",
    "\n",
    "# Plot sentiment distribution\n",
    "plt.figure(figsize=(8, 4))\n",
    "sns.countplot(x=df[\"Risk_Level\"], palette=\"coolwarm\")\n",
    "plt.title(\"Sentiment Analysis Distribution\")\n",
    "plt.show()\n",
    "\n",
    "# Plot risk level distribution\n",
    "plt.figure(figsize=(8, 4))\n",
    "sns.countplot(x=df[\"Risk_Level\"], palette=\"Reds\")\n",
    "plt.title(\"Crisis Risk Classification Distribution\")\n",
    "plt.show()\n"
   ]
  },
  {
   "cell_type": "code",
   "execution_count": null,
   "id": "a048bf0a-b540-4cec-b710-52fc15b2948c",
   "metadata": {},
   "outputs": [],
   "source": []
  },
  {
   "cell_type": "code",
   "execution_count": null,
   "id": "776b03a8-3587-4311-971f-37dd25811d5c",
   "metadata": {},
   "outputs": [],
   "source": []
  },
  {
   "cell_type": "code",
   "execution_count": null,
   "id": "aafe8212-8020-409b-a00c-0cb19741b222",
   "metadata": {},
   "outputs": [],
   "source": []
  },
  {
   "cell_type": "markdown",
   "id": "0a878314-458c-4e5b-be2c-356cbfcd5f49",
   "metadata": {},
   "source": [
    "# Task 3"
   ]
  },
  {
   "cell_type": "code",
   "execution_count": null,
   "id": "de3efd47-aa35-4859-8af7-edb3b977853d",
   "metadata": {},
   "outputs": [],
   "source": []
  },
  {
   "cell_type": "code",
   "execution_count": 75,
   "id": "e8fa1dc8-f2f6-4702-bc48-899281e7a066",
   "metadata": {},
   "outputs": [
    {
     "data": {
      "text/plain": [
       "Index(['subreddit', 'post_id', 'timestamp', 'upvotes', 'comments', 'shares',\n",
       "       'content_length', 'cleaned_content', 'Risk_Level'],\n",
       "      dtype='object')"
      ]
     },
     "execution_count": 75,
     "metadata": {},
     "output_type": "execute_result"
    }
   ],
   "source": [
    "df.columns"
   ]
  },
  {
   "cell_type": "code",
   "execution_count": 76,
   "id": "5c26da84-b616-4e76-b8ef-b994e9e56b84",
   "metadata": {},
   "outputs": [
    {
     "data": {
      "text/plain": [
       "(211, 9)"
      ]
     },
     "execution_count": 76,
     "metadata": {},
     "output_type": "execute_result"
    }
   ],
   "source": [
    "df.shape"
   ]
  },
  {
   "cell_type": "code",
   "execution_count": null,
   "id": "5232d049-c913-443d-8227-751ff6eddf3b",
   "metadata": {},
   "outputs": [],
   "source": []
  },
  {
   "cell_type": "code",
   "execution_count": 77,
   "id": "9b632df4-22ef-4af5-be70-e8032217ff7c",
   "metadata": {},
   "outputs": [],
   "source": [
    "import folium\n",
    "from folium.plugins import HeatMap\n",
    "from geopy.geocoders import Nominatim\n",
    "import spacy\n",
    "\n",
    "# Load a more robust NLP model\n",
    "nlp = spacy.load(\"en_core_web_trf\")\n"
   ]
  },
  {
   "cell_type": "code",
   "execution_count": 78,
   "id": "79e99764-1732-4dc3-b8ed-525b5b4962e1",
   "metadata": {},
   "outputs": [],
   "source": [
    "# Function to extract locations from text\n",
    "def extract_location(text):\n",
    "    doc = nlp(text)\n",
    "    locations = [ent.text for ent in doc.ents if ent.label_ == \"GPE\"]\n",
    "    return locations[0] if locations else None\n",
    "\n"
   ]
  },
  {
   "cell_type": "code",
   "execution_count": 79,
   "id": "37c1024b-5561-4d7b-94d5-9ec89041a3b1",
   "metadata": {},
   "outputs": [],
   "source": [
    "# Apply location extraction\n",
    "df['location'] = df['cleaned_content'].apply(extract_location)\n"
   ]
  },
  {
   "cell_type": "code",
   "execution_count": 80,
   "id": "96cc59cc-3b6d-4dc0-9154-f9bc832a22ef",
   "metadata": {},
   "outputs": [
    {
     "data": {
      "text/plain": [
       "location\n",
       "michigan          2\n",
       "green shield      2\n",
       "middle nowhere    1\n",
       "pennsylvania      1\n",
       "angola africa     1\n",
       "colorado          1\n",
       "southern state    1\n",
       "panama city       1\n",
       "ve                1\n",
       "america           1\n",
       "grey area         1\n",
       "new area          1\n",
       "country           1\n",
       "virginia          1\n",
       "canada            1\n",
       "Name: count, dtype: int64"
      ]
     },
     "execution_count": 80,
     "metadata": {},
     "output_type": "execute_result"
    }
   ],
   "source": [
    "df['location'].value_counts()"
   ]
  },
  {
   "cell_type": "code",
   "execution_count": null,
   "id": "e2f8f42b-e008-4ed0-9ee5-1859043bb0c6",
   "metadata": {},
   "outputs": [],
   "source": []
  },
  {
   "cell_type": "code",
   "execution_count": null,
   "id": "fa6f78c1-4ce9-4cd6-a0db-83c448e2d28f",
   "metadata": {},
   "outputs": [],
   "source": []
  },
  {
   "cell_type": "code",
   "execution_count": null,
   "id": "bac38bee-0b36-431c-91a3-be37cbbae436",
   "metadata": {},
   "outputs": [],
   "source": []
  },
  {
   "cell_type": "code",
   "execution_count": 82,
   "id": "e52118e3-41b3-42f1-b214-4ccc714c15f3",
   "metadata": {},
   "outputs": [],
   "source": [
    "#Geocode valid locations\n",
    "geolocator = Nominatim(user_agent=\"geo_crisis_analysis\")\n",
    "\n",
    "def geocode_location(location):\n",
    "    if location:\n",
    "        try:\n",
    "            geo = geolocator.geocode(location)\n",
    "            return (geo.latitude, geo.longitude) if geo else None\n",
    "        except:\n",
    "            return None\n",
    "    return None"
   ]
  },
  {
   "cell_type": "code",
   "execution_count": 83,
   "id": "d6430d44-95f4-414b-8f4a-c6e503a2fd77",
   "metadata": {},
   "outputs": [],
   "source": [
    "\n",
    "df['coordinates'] = df['location'].apply(geocode_location)\n",
    "df = df.dropna(subset=['coordinates'])"
   ]
  },
  {
   "cell_type": "code",
   "execution_count": 84,
   "id": "8cf6ceef-cde8-44be-9957-eeef4bba4af8",
   "metadata": {},
   "outputs": [],
   "source": [
    "\n",
    "# Generate Heatmap\n",
    "def generate_heatmap(data):\n",
    "    heatmap_data = [(lat, lon) for lat, lon in data]\n",
    "    map_ = folium.Map(location=[20, 0], zoom_start=2)\n",
    "    HeatMap(heatmap_data).add_to(map_)\n",
    "    return map_\n",
    "\n"
   ]
  },
  {
   "cell_type": "code",
   "execution_count": 85,
   "id": "9668d4dc-345e-4f90-b405-24138910c544",
   "metadata": {},
   "outputs": [],
   "source": [
    "heatmap = generate_heatmap(df['coordinates'].tolist())\n",
    "heatmap.save(\"crisis_heatmap.html\")\n"
   ]
  },
  {
   "cell_type": "code",
   "execution_count": null,
   "id": "b473e9ca-9fec-403d-9a6b-f59eeb51ec93",
   "metadata": {},
   "outputs": [],
   "source": []
  },
  {
   "cell_type": "code",
   "execution_count": 86,
   "id": "28f0997d-2695-4c3a-b945-63859b230679",
   "metadata": {},
   "outputs": [
    {
     "data": {
      "text/plain": [
       "True"
      ]
     },
     "execution_count": 86,
     "metadata": {},
     "output_type": "execute_result"
    },
    {
     "name": "stdout",
     "output_type": "stream",
     "text": [
      "Opening in existing browser session.\n"
     ]
    }
   ],
   "source": []
  },
  {
   "cell_type": "code",
   "execution_count": null,
   "id": "2be41a8c-7a68-4d23-99a3-d1fd2ef5e429",
   "metadata": {},
   "outputs": [],
   "source": []
  },
  {
   "cell_type": "code",
   "execution_count": 89,
   "id": "a2087232-448e-4cd5-8907-f9933781395a",
   "metadata": {},
   "outputs": [],
   "source": [
    "import folium\n",
    "from folium.plugins import HeatMap\n",
    "\n",
    "def generate_heatmap_with_markers(data):\n",
    "    # Create base map\n",
    "    map_ = folium.Map(location=[20, 0], zoom_start=2)\n",
    "    \n",
    "    # Extract heatmap coordinates\n",
    "    heatmap_data = [(lat, lon) for lat, lon, name in data]\n",
    "    HeatMap(heatmap_data).add_to(map_)\n",
    "\n",
    "    # Add markers with labels\n",
    "    for lat, lon, name in data:\n",
    "        folium.Marker(\n",
    "            location=[lat, lon],\n",
    "            popup=name,  # Show name when clicked\n",
    "            tooltip=name  # Show name on hover\n",
    "        ).add_to(map_)\n",
    "\n",
    "    return map_\n",
    "\n",
    "# Convert your DataFrame's coordinates into a list of tuples (lat, lon, location_name)\n",
    "location_data = [(lat, lon, name) for (lat, lon), name in zip(df['coordinates'], df['location'])]\n",
    "heatmap = generate_heatmap_with_markers(location_data)\n",
    "\n",
    "# Save and view\n",
    "heatmap.save(\"crisis_heatmap_with_markers.html\")\n"
   ]
  },
  {
   "cell_type": "code",
   "execution_count": 90,
   "id": "5568170b-a03f-4fd7-9353-15583c096246",
   "metadata": {},
   "outputs": [
    {
     "data": {
      "text/plain": [
       "True"
      ]
     },
     "execution_count": 90,
     "metadata": {},
     "output_type": "execute_result"
    },
    {
     "name": "stdout",
     "output_type": "stream",
     "text": [
      "Opening in existing browser session.\n"
     ]
    }
   ],
   "source": [
    "import webbrowser\n",
    "webbrowser.open(\"crisis_heatmap_with_markers.html\")\n"
   ]
  },
  {
   "cell_type": "code",
   "execution_count": null,
   "id": "a0a7f59a-0046-4dc6-98b4-8da7708748b6",
   "metadata": {},
   "outputs": [],
   "source": []
  },
  {
   "cell_type": "code",
   "execution_count": null,
   "id": "829d91ae-94de-433c-8d06-71d7d89c59d3",
   "metadata": {},
   "outputs": [],
   "source": []
  },
  {
   "cell_type": "code",
   "execution_count": null,
   "id": "9d54296c-697b-4e06-8be5-84a87dd61b6c",
   "metadata": {},
   "outputs": [],
   "source": []
  },
  {
   "cell_type": "code",
   "execution_count": null,
   "id": "d63e1bb5-a94f-4cc0-b461-3e29cd412d10",
   "metadata": {},
   "outputs": [],
   "source": [
    "####### Task 3"
   ]
  },
  {
   "cell_type": "code",
   "execution_count": null,
   "id": "eade2aa5-2080-4057-b700-91c7da13f9ee",
   "metadata": {},
   "outputs": [],
   "source": []
  },
  {
   "cell_type": "code",
   "execution_count": null,
   "id": "01f6e0ee-fe2c-449b-8381-0b1feee225b3",
   "metadata": {},
   "outputs": [],
   "source": [
    "# Step 1: Extracting Location Data\n",
    "##"
   ]
  },
  {
   "cell_type": "code",
   "execution_count": null,
   "id": "12615738-44e9-41b3-b7c6-a6864df965e1",
   "metadata": {
    "scrolled": true
   },
   "outputs": [],
   "source": [
    "# Check available location data\n",
    "print(df[\"Location\"].value_counts().head(10))  # View top locations\n"
   ]
  },
  {
   "cell_type": "code",
   "execution_count": null,
   "id": "64614a76-54c0-435d-a6eb-31a7aa9c7fd7",
   "metadata": {},
   "outputs": [],
   "source": []
  },
  {
   "cell_type": "code",
   "execution_count": null,
   "id": "b06ccdbb-b4c4-460c-8e7f-711dd1442905",
   "metadata": {},
   "outputs": [],
   "source": [
    "###📌 Extract Locations from Post Text\n"
   ]
  },
  {
   "cell_type": "code",
   "execution_count": null,
   "id": "97a573aa-65af-43d5-bde7-6bf9470bf248",
   "metadata": {},
   "outputs": [],
   "source": [
    "import spacy\n",
    "\n",
    "# Load English NLP model\n",
    "nlp = spacy.load(\"en_core_web_sm\")\n",
    "\n",
    "# Function to extract locations\n",
    "def extract_location(text):\n",
    "    doc = nlp(text)\n",
    "    for ent in doc.ents:\n",
    "        if ent.label_ == \"GPE\":  # GPE = Geo-Political Entity (cities, countries, etc.)\n",
    "            return ent.text\n",
    "    return None  # No location found\n",
    "\n",
    "# Apply location extraction\n",
    "df[\"Extracted_Location\"] = df[\"Cleaned_Content\"].apply(extract_location)\n",
    "\n",
    "# View extracted locations\n",
    "print(df[\"Extracted_Location\"].value_counts().head(10))\n"
   ]
  },
  {
   "cell_type": "code",
   "execution_count": null,
   "id": "65d6be2b-24f5-4541-b189-a62ac443f995",
   "metadata": {},
   "outputs": [],
   "source": []
  },
  {
   "cell_type": "code",
   "execution_count": null,
   "id": "bd101f02-7a14-4ddf-8d1f-b22822e2a6f5",
   "metadata": {},
   "outputs": [],
   "source": [
    "## Step 2: Geocoding (Convert Locations to Lat/Lon)"
   ]
  },
  {
   "cell_type": "code",
   "execution_count": null,
   "id": "0309a823-2166-4b37-8b27-c8aecf326c35",
   "metadata": {},
   "outputs": [],
   "source": [
    "from geopy.geocoders import Nominatim\n",
    "import time\n",
    "\n",
    "geolocator = Nominatim(user_agent=\"geo_locator\")\n",
    "\n",
    "# Function to get latitude & longitude\n",
    "def get_coordinates(location):\n",
    "    if pd.isna(location):\n",
    "        return None, None\n",
    "    try:\n",
    "        time.sleep(1)  # To avoid API rate limits\n",
    "        loc = geolocator.geocode(location)\n",
    "        if loc:\n",
    "            return loc.latitude, loc.longitude\n",
    "    except:\n",
    "        return None, None\n",
    "    return None, None\n",
    "\n",
    "# Apply geocoding\n",
    "df[[\"Latitude\", \"Longitude\"]] = df[\"Extracted_Location\"].apply(lambda x: pd.Series(get_coordinates(x)))\n",
    "\n",
    "# Remove rows where coordinates are missing\n",
    "df = df.dropna(subset=[\"Latitude\", \"Longitude\"])\n",
    "\n",
    "# Save the geocoded dataset\n",
    "df.to_csv(\"geocoded_twitter_data.csv\", index=False)\n",
    "print(\"✅ Geolocation completed!\")\n"
   ]
  },
  {
   "cell_type": "code",
   "execution_count": null,
   "id": "577415d4-bade-427d-a99a-5276450944ca",
   "metadata": {},
   "outputs": [],
   "source": []
  },
  {
   "cell_type": "code",
   "execution_count": null,
   "id": "a18f080a-a2ac-4295-9088-b719535f6c2c",
   "metadata": {},
   "outputs": [],
   "source": [
    "### 🔹 Step 3: Creating a Crisis Heatmap\n"
   ]
  },
  {
   "cell_type": "code",
   "execution_count": null,
   "id": "3fcc372a-4d93-4d8c-a915-35ca1b6169e5",
   "metadata": {},
   "outputs": [],
   "source": [
    "## generate heatmap"
   ]
  },
  {
   "cell_type": "code",
   "execution_count": null,
   "id": "a7e528b1-9662-46af-b3a3-c4e612d4fa00",
   "metadata": {},
   "outputs": [],
   "source": [
    "import folium\n",
    "from folium.plugins import HeatMap\n",
    "\n",
    "# Initialize map centered at an approximate location\n",
    "m = folium.Map(location=[20, 0], zoom_start=2)  # World view\n",
    "\n",
    "# Add heatmap layer\n",
    "heat_data = df[[\"Latitude\", \"Longitude\"]].values.tolist()\n",
    "HeatMap(heat_data).add_to(m)\n",
    "\n",
    "# Save and display map\n",
    "m.save(\"crisis_heatmap.html\")\n",
    "print(\"✅ Heatmap generated! Open 'crisis_heatmap.html' to view.\")\n"
   ]
  },
  {
   "cell_type": "code",
   "execution_count": null,
   "id": "15d0d2d9-cdd7-423d-8105-03dc327fe7f6",
   "metadata": {},
   "outputs": [],
   "source": []
  },
  {
   "cell_type": "code",
   "execution_count": null,
   "id": "5025668a-57b6-4d15-9210-d1613378af66",
   "metadata": {},
   "outputs": [],
   "source": []
  },
  {
   "cell_type": "code",
   "execution_count": null,
   "id": "c971b50d-198a-4682-a353-d12d9e34e074",
   "metadata": {},
   "outputs": [],
   "source": [
    "## 🔹 Step 4: Finding Top 5 Crisis Locations\n",
    "\n"
   ]
  },
  {
   "cell_type": "code",
   "execution_count": null,
   "id": "c261e5d5-f16f-4dee-be24-3f0a3fc509a1",
   "metadata": {},
   "outputs": [],
   "source": [
    "# Count top locations\n",
    "top_locations = df[\"Extracted_Location\"].value_counts().head(5)\n",
    "print(top_locations)\n"
   ]
  },
  {
   "cell_type": "code",
   "execution_count": null,
   "id": "456a9c93-1286-46b1-9c0d-8468b8e8f382",
   "metadata": {},
   "outputs": [],
   "source": []
  },
  {
   "cell_type": "code",
   "execution_count": null,
   "id": "f171cf40-2bec-4acf-90f5-f238955d2e0c",
   "metadata": {},
   "outputs": [],
   "source": []
  },
  {
   "cell_type": "code",
   "execution_count": null,
   "id": "53e49723-ec47-4a86-ab76-54ac2f979e3f",
   "metadata": {},
   "outputs": [],
   "source": []
  },
  {
   "cell_type": "code",
   "execution_count": null,
   "id": "2fe6ecc0-9e89-4536-898c-26c4685c7ace",
   "metadata": {},
   "outputs": [],
   "source": []
  },
  {
   "cell_type": "code",
   "execution_count": null,
   "id": "8b7f5f4a-88c1-4861-89b2-3b6b7914edb3",
   "metadata": {},
   "outputs": [],
   "source": []
  },
  {
   "cell_type": "code",
   "execution_count": null,
   "id": "5247860f-f34f-4451-86aa-2d00a15aa821",
   "metadata": {},
   "outputs": [],
   "source": []
  },
  {
   "cell_type": "code",
   "execution_count": null,
   "id": "ae9a80e1-d724-413d-87ae-798309fa1727",
   "metadata": {},
   "outputs": [],
   "source": []
  },
  {
   "cell_type": "code",
   "execution_count": null,
   "id": "c3de2cfc-b1b0-4214-af80-ecd87000acf9",
   "metadata": {},
   "outputs": [],
   "source": []
  }
 ],
 "metadata": {
  "kernelspec": {
   "display_name": "Python 3 (ipykernel)",
   "language": "python",
   "name": "python3"
  },
  "language_info": {
   "codemirror_mode": {
    "name": "ipython",
    "version": 3
   },
   "file_extension": ".py",
   "mimetype": "text/x-python",
   "name": "python",
   "nbconvert_exporter": "python",
   "pygments_lexer": "ipython3",
   "version": "3.12.8"
  }
 },
 "nbformat": 4,
 "nbformat_minor": 5
}
